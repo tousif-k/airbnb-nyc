import numpy as np
import pandas as pd
import seaborn as sns
sns.set(style="ticks", color_codes=True)
import matplotlib as mpl
import matplotlib.pyplot as plt


file = 'datasets/listings.csv'
df = pd.read_csv(file)
df


df.dtypes


df.isnull().sum()


df.fillna({'reviews_per_month':0}, inplace=True)
df.fillna({'name':'noname'}, inplace=True)
df.fillna({'host_name':'noname'}, inplace=True)
df.fillna({'last_review':'noreviews'}, inplace=True)


df.isnull().sum()


 df['price'].describe()


hist_price = df['price'].hist()


hist_price = df['price'][df.price < 1000].hist()


df[df.price > 1000]


df_ex = df[df.price >= 1000] # all the expensive listings, which is skewing the dataset
df = df[df.price < 1000] # will now be the main dataset


hist_price = df['price'][df.price < 250].hist()


df_ex2 = df[df.price >= 250]
df = df[df.price < 250]
df['price'].describe()


df['neighbourhood'].value_counts()


df_nh = df.groupby('neighbourhood').filter(lambda x: x['neighbourhood'].count() > 200)


len(df_nh['neighbourhood'])


df_nh = df.groupby('neighbourhood').filter(lambda x: x['neighbourhood'].count() == 1)
len(df_nh.neighbourhood)


df.neighbourhood_group.value_counts()


ng_price = df.groupby('neighbourhood_group')['price'].mean()
ng_price


plott = sns.catplot(x='neighbourhood_group', y='price', hue='room_type', kind='swarm', data=df)
plott


df_hosts = df.groupby(['host_id'])
max(df_hosts.size())


df_hosts.size().value_counts().head()


df_hosts.size().value_counts().tail()


host_id_counts = df['host_id'].value_counts()
max_host = host_id_counts.idxmax()
max_host


df[df['host_id'] == max_host]


df = df.drop(columns=['id', 'host_name']) # not too useful
df['name_length'] = df['name'].map(str).apply(len)


print(df['name_length'].max())
print(df['name_length'].min())
print(df['name_length'].idxmax())
print(df['name_length'].idxmin())


df.at[35555, 'name']


df.at[6959, 'name']


df.plot.scatter(x='name_length', y='number_of_reviews') # seeing if theres a relationship between name length and popularity (measured by # of reviews)


df[df['name_length'] < 50].plot.scatter(x='price', y='name_length')


df.name_length.hist()


df['room_type'].value_counts()


rt_price = df.groupby('room_type')['price'].mean()


rt_price


df['minimum_nights'].describe()


hist_mn = df['minimum_nights'].hist()
hist_mn


hist_mn1 = df['minimum_nights'][df.minimum_nights < 10].hist()
hist_mn1


df['minimum_nights'][df.minimum_nights > 30]


df.loc[(df.minimum_nights > 30), 'minimum_nights']=30


hist_mn2 = df['minimum_nights'][df.minimum_nights < 30].hist()
hist_mn2


df['minimum_nights'].corr(df['price'])


df['availability_365'].describe()


hist_av = df['availability_365'].hist()
hist_av


df.drop(['name', 'last_review', 'latitude', 'longitude'], axis=1, inplace=True)


df.drop(['host_id'], axis=1, inplace=True)


corr = df.corr(method='pearson')
plt.figure(figsize=(15,8))
sns.heatmap(corr, annot=True)
df.columns


df.dtypes


oh1 = pd.get_dummies(df, columns=['neighbourhood_group', 'room_type'], prefix=['ng', 'rt'], drop_first=True)
oh1.drop(['neighbourhood'], axis=1, inplace=True)
oh1.shape


X1 = oh1.loc[:, oh1.columns != 'price']
Y1 = oh1['price']



