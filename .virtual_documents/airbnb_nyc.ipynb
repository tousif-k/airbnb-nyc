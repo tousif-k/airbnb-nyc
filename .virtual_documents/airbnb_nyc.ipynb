import numpy as np
import pandas as pd
import seaborn as sns
sns.set(style="ticks", color_codes=True)
import matplotlib as mpl
import matplotlib.pyplot as plt


file = 'datasets/listings.csv'
df = pd.read_csv(file)
df


df.dtypes


df.isnull().sum()


df.fillna({'reviews_per_month':0}, inplace=True)
df.fillna({'name':'noname'}, inplace=True)
df.fillna({'host_name':'noname'}, inplace=True)
df.fillna({'last_review':'noreviews'}, inplace=True)


df.isnull().sum()


 df['price'].describe()


hist_price = df['price'].hist()


hist_price = df['price'][df.price < 1000].hist()


df[df.price > 1000]


df_ex = df[df.price >= 1000] # all the expensive listings, which is skewing the dataset
df = df[df.price < 1000] # will now be the main dataset


hist_price = df['price'][df.price < 250].hist()


df_ex2 = df[df.price >= 250]
df = df[df.price < 250]
df['price'].describe()


df['neighbourhood'].value_counts()


df_nh = df.groupby('neighbourhood').filter(lambda x: x['neighbourhood'].count() > 200)


len(df_nh['neighbourhood'])


df_nh = df.groupby('neighbourhood').filter(lambda x: x['neighbourhood'].count() == 1)
len(df_nh.neighbourhood)


df.neighbourhood_group.value_counts()


ng_price = df.groupby('neighbourhood_group')['price'].mean()
ng_price


plott = sns.catplot(x='neighbourhood_group', y='price', hue='room_type', kind='swarm', data=df)
plott






