{
 "cells": [
  {
   "cell_type": "code",
   "execution_count": 1,
   "id": "labeled-aggregate",
   "metadata": {},
   "outputs": [],
   "source": [
    "import numpy as np\n",
    "import pandas as pd\n",
    "import seaborn as sns\n",
    "sns.set(style=\"ticks\", color_codes=True)\n",
    "import matplotlib as mpl\n",
    "import matplotlib.pyplot as plt"
   ]
  },
  {
   "cell_type": "code",
   "execution_count": 2,
   "id": "fresh-england",
   "metadata": {},
   "outputs": [
    {
     "data": {
      "text/html": [
       "<div>\n",
       "<style scoped>\n",
       "    .dataframe tbody tr th:only-of-type {\n",
       "        vertical-align: middle;\n",
       "    }\n",
       "\n",
       "    .dataframe tbody tr th {\n",
       "        vertical-align: top;\n",
       "    }\n",
       "\n",
       "    .dataframe thead th {\n",
       "        text-align: right;\n",
       "    }\n",
       "</style>\n",
       "<table border=\"1\" class=\"dataframe\">\n",
       "  <thead>\n",
       "    <tr style=\"text-align: right;\">\n",
       "      <th></th>\n",
       "      <th>id</th>\n",
       "      <th>name</th>\n",
       "      <th>host_id</th>\n",
       "      <th>host_name</th>\n",
       "      <th>neighbourhood_group</th>\n",
       "      <th>neighbourhood</th>\n",
       "      <th>latitude</th>\n",
       "      <th>longitude</th>\n",
       "      <th>room_type</th>\n",
       "      <th>price</th>\n",
       "      <th>minimum_nights</th>\n",
       "      <th>number_of_reviews</th>\n",
       "      <th>last_review</th>\n",
       "      <th>reviews_per_month</th>\n",
       "      <th>calculated_host_listings_count</th>\n",
       "      <th>availability_365</th>\n",
       "    </tr>\n",
       "  </thead>\n",
       "  <tbody>\n",
       "    <tr>\n",
       "      <th>0</th>\n",
       "      <td>2595</td>\n",
       "      <td>Skylit Midtown Castle</td>\n",
       "      <td>2845</td>\n",
       "      <td>Jennifer</td>\n",
       "      <td>Manhattan</td>\n",
       "      <td>Midtown</td>\n",
       "      <td>40.753560</td>\n",
       "      <td>-73.985590</td>\n",
       "      <td>Entire home/apt</td>\n",
       "      <td>150</td>\n",
       "      <td>30</td>\n",
       "      <td>48</td>\n",
       "      <td>2019-11-04</td>\n",
       "      <td>0.34</td>\n",
       "      <td>3</td>\n",
       "      <td>341</td>\n",
       "    </tr>\n",
       "    <tr>\n",
       "      <th>1</th>\n",
       "      <td>3831</td>\n",
       "      <td>Whole flr w/private bdrm, bath &amp; kitchen(pls r...</td>\n",
       "      <td>4869</td>\n",
       "      <td>LisaRoxanne</td>\n",
       "      <td>Brooklyn</td>\n",
       "      <td>Bedford-Stuyvesant</td>\n",
       "      <td>40.684940</td>\n",
       "      <td>-73.957650</td>\n",
       "      <td>Entire home/apt</td>\n",
       "      <td>75</td>\n",
       "      <td>1</td>\n",
       "      <td>408</td>\n",
       "      <td>2021-06-29</td>\n",
       "      <td>5.09</td>\n",
       "      <td>1</td>\n",
       "      <td>212</td>\n",
       "    </tr>\n",
       "    <tr>\n",
       "      <th>2</th>\n",
       "      <td>5121</td>\n",
       "      <td>BlissArtsSpace!</td>\n",
       "      <td>7356</td>\n",
       "      <td>Garon</td>\n",
       "      <td>Brooklyn</td>\n",
       "      <td>Bedford-Stuyvesant</td>\n",
       "      <td>40.685350</td>\n",
       "      <td>-73.955120</td>\n",
       "      <td>Private room</td>\n",
       "      <td>60</td>\n",
       "      <td>30</td>\n",
       "      <td>50</td>\n",
       "      <td>2016-06-05</td>\n",
       "      <td>0.55</td>\n",
       "      <td>1</td>\n",
       "      <td>365</td>\n",
       "    </tr>\n",
       "    <tr>\n",
       "      <th>3</th>\n",
       "      <td>5136</td>\n",
       "      <td>Spacious Brooklyn Duplex, Patio + Garden</td>\n",
       "      <td>7378</td>\n",
       "      <td>Rebecca</td>\n",
       "      <td>Brooklyn</td>\n",
       "      <td>Sunset Park</td>\n",
       "      <td>40.662650</td>\n",
       "      <td>-73.994540</td>\n",
       "      <td>Entire home/apt</td>\n",
       "      <td>275</td>\n",
       "      <td>5</td>\n",
       "      <td>1</td>\n",
       "      <td>2014-01-02</td>\n",
       "      <td>0.01</td>\n",
       "      <td>1</td>\n",
       "      <td>184</td>\n",
       "    </tr>\n",
       "    <tr>\n",
       "      <th>4</th>\n",
       "      <td>5178</td>\n",
       "      <td>Large Furnished Room Near B'way</td>\n",
       "      <td>8967</td>\n",
       "      <td>Shunichi</td>\n",
       "      <td>Manhattan</td>\n",
       "      <td>Midtown</td>\n",
       "      <td>40.764570</td>\n",
       "      <td>-73.983170</td>\n",
       "      <td>Private room</td>\n",
       "      <td>61</td>\n",
       "      <td>2</td>\n",
       "      <td>485</td>\n",
       "      <td>2021-07-18</td>\n",
       "      <td>3.63</td>\n",
       "      <td>1</td>\n",
       "      <td>255</td>\n",
       "    </tr>\n",
       "    <tr>\n",
       "      <th>...</th>\n",
       "      <td>...</td>\n",
       "      <td>...</td>\n",
       "      <td>...</td>\n",
       "      <td>...</td>\n",
       "      <td>...</td>\n",
       "      <td>...</td>\n",
       "      <td>...</td>\n",
       "      <td>...</td>\n",
       "      <td>...</td>\n",
       "      <td>...</td>\n",
       "      <td>...</td>\n",
       "      <td>...</td>\n",
       "      <td>...</td>\n",
       "      <td>...</td>\n",
       "      <td>...</td>\n",
       "      <td>...</td>\n",
       "    </tr>\n",
       "    <tr>\n",
       "      <th>36719</th>\n",
       "      <td>51447515</td>\n",
       "      <td>Gorgeous 2 Bedroom - in Prime Midtown East</td>\n",
       "      <td>51589519</td>\n",
       "      <td>Asi</td>\n",
       "      <td>Manhattan</td>\n",
       "      <td>Midtown</td>\n",
       "      <td>40.755787</td>\n",
       "      <td>-73.965126</td>\n",
       "      <td>Entire home/apt</td>\n",
       "      <td>255</td>\n",
       "      <td>31</td>\n",
       "      <td>0</td>\n",
       "      <td>NaN</td>\n",
       "      <td>NaN</td>\n",
       "      <td>6</td>\n",
       "      <td>364</td>\n",
       "    </tr>\n",
       "    <tr>\n",
       "      <th>36720</th>\n",
       "      <td>51449962</td>\n",
       "      <td>Charming UWS 1-bdrm, 1-office, 1/2 block to Ct...</td>\n",
       "      <td>2971741</td>\n",
       "      <td>Dina Marie</td>\n",
       "      <td>Manhattan</td>\n",
       "      <td>Upper West Side</td>\n",
       "      <td>40.787029</td>\n",
       "      <td>-73.969239</td>\n",
       "      <td>Entire home/apt</td>\n",
       "      <td>306</td>\n",
       "      <td>5</td>\n",
       "      <td>0</td>\n",
       "      <td>NaN</td>\n",
       "      <td>NaN</td>\n",
       "      <td>1</td>\n",
       "      <td>16</td>\n",
       "    </tr>\n",
       "    <tr>\n",
       "      <th>36721</th>\n",
       "      <td>51450816</td>\n",
       "      <td>The Hunter IIII</td>\n",
       "      <td>61391963</td>\n",
       "      <td>Stay With Vibe</td>\n",
       "      <td>Manhattan</td>\n",
       "      <td>Upper East Side</td>\n",
       "      <td>40.768950</td>\n",
       "      <td>-73.960455</td>\n",
       "      <td>Entire home/apt</td>\n",
       "      <td>63</td>\n",
       "      <td>30</td>\n",
       "      <td>0</td>\n",
       "      <td>NaN</td>\n",
       "      <td>NaN</td>\n",
       "      <td>96</td>\n",
       "      <td>334</td>\n",
       "    </tr>\n",
       "    <tr>\n",
       "      <th>36722</th>\n",
       "      <td>51451029</td>\n",
       "      <td>Rockaway Beach Surf Getaway</td>\n",
       "      <td>10123226</td>\n",
       "      <td>Chase</td>\n",
       "      <td>Queens</td>\n",
       "      <td>Arverne</td>\n",
       "      <td>40.599257</td>\n",
       "      <td>-73.797953</td>\n",
       "      <td>Private room</td>\n",
       "      <td>75</td>\n",
       "      <td>1</td>\n",
       "      <td>0</td>\n",
       "      <td>NaN</td>\n",
       "      <td>NaN</td>\n",
       "      <td>1</td>\n",
       "      <td>87</td>\n",
       "    </tr>\n",
       "    <tr>\n",
       "      <th>36723</th>\n",
       "      <td>51451368</td>\n",
       "      <td>Nyc apt in the middle in nyc</td>\n",
       "      <td>17770287</td>\n",
       "      <td>Nina</td>\n",
       "      <td>Manhattan</td>\n",
       "      <td>Murray Hill</td>\n",
       "      <td>40.748655</td>\n",
       "      <td>-73.981209</td>\n",
       "      <td>Entire home/apt</td>\n",
       "      <td>115</td>\n",
       "      <td>30</td>\n",
       "      <td>0</td>\n",
       "      <td>NaN</td>\n",
       "      <td>NaN</td>\n",
       "      <td>11</td>\n",
       "      <td>364</td>\n",
       "    </tr>\n",
       "  </tbody>\n",
       "</table>\n",
       "<p>36724 rows × 16 columns</p>\n",
       "</div>"
      ],
      "text/plain": [
       "             id                                               name   host_id  \\\n",
       "0          2595                              Skylit Midtown Castle      2845   \n",
       "1          3831  Whole flr w/private bdrm, bath & kitchen(pls r...      4869   \n",
       "2          5121                                    BlissArtsSpace!      7356   \n",
       "3          5136           Spacious Brooklyn Duplex, Patio + Garden      7378   \n",
       "4          5178                   Large Furnished Room Near B'way　      8967   \n",
       "...         ...                                                ...       ...   \n",
       "36719  51447515         Gorgeous 2 Bedroom - in Prime Midtown East  51589519   \n",
       "36720  51449962  Charming UWS 1-bdrm, 1-office, 1/2 block to Ct...   2971741   \n",
       "36721  51450816                                    The Hunter IIII  61391963   \n",
       "36722  51451029                        Rockaway Beach Surf Getaway  10123226   \n",
       "36723  51451368                       Nyc apt in the middle in nyc  17770287   \n",
       "\n",
       "            host_name neighbourhood_group       neighbourhood   latitude  \\\n",
       "0            Jennifer           Manhattan             Midtown  40.753560   \n",
       "1         LisaRoxanne            Brooklyn  Bedford-Stuyvesant  40.684940   \n",
       "2               Garon            Brooklyn  Bedford-Stuyvesant  40.685350   \n",
       "3             Rebecca            Brooklyn         Sunset Park  40.662650   \n",
       "4            Shunichi           Manhattan             Midtown  40.764570   \n",
       "...               ...                 ...                 ...        ...   \n",
       "36719             Asi           Manhattan             Midtown  40.755787   \n",
       "36720      Dina Marie           Manhattan     Upper West Side  40.787029   \n",
       "36721  Stay With Vibe           Manhattan     Upper East Side  40.768950   \n",
       "36722           Chase              Queens             Arverne  40.599257   \n",
       "36723            Nina           Manhattan         Murray Hill  40.748655   \n",
       "\n",
       "       longitude        room_type  price  minimum_nights  number_of_reviews  \\\n",
       "0     -73.985590  Entire home/apt    150              30                 48   \n",
       "1     -73.957650  Entire home/apt     75               1                408   \n",
       "2     -73.955120     Private room     60              30                 50   \n",
       "3     -73.994540  Entire home/apt    275               5                  1   \n",
       "4     -73.983170     Private room     61               2                485   \n",
       "...          ...              ...    ...             ...                ...   \n",
       "36719 -73.965126  Entire home/apt    255              31                  0   \n",
       "36720 -73.969239  Entire home/apt    306               5                  0   \n",
       "36721 -73.960455  Entire home/apt     63              30                  0   \n",
       "36722 -73.797953     Private room     75               1                  0   \n",
       "36723 -73.981209  Entire home/apt    115              30                  0   \n",
       "\n",
       "      last_review  reviews_per_month  calculated_host_listings_count  \\\n",
       "0      2019-11-04               0.34                               3   \n",
       "1      2021-06-29               5.09                               1   \n",
       "2      2016-06-05               0.55                               1   \n",
       "3      2014-01-02               0.01                               1   \n",
       "4      2021-07-18               3.63                               1   \n",
       "...           ...                ...                             ...   \n",
       "36719         NaN                NaN                               6   \n",
       "36720         NaN                NaN                               1   \n",
       "36721         NaN                NaN                              96   \n",
       "36722         NaN                NaN                               1   \n",
       "36723         NaN                NaN                              11   \n",
       "\n",
       "       availability_365  \n",
       "0                   341  \n",
       "1                   212  \n",
       "2                   365  \n",
       "3                   184  \n",
       "4                   255  \n",
       "...                 ...  \n",
       "36719               364  \n",
       "36720                16  \n",
       "36721               334  \n",
       "36722                87  \n",
       "36723               364  \n",
       "\n",
       "[36724 rows x 16 columns]"
      ]
     },
     "execution_count": 2,
     "metadata": {},
     "output_type": "execute_result"
    }
   ],
   "source": [
    "file = 'datasets/listings.csv'\n",
    "df = pd.read_csv(file)\n",
    "df"
   ]
  },
  {
   "cell_type": "code",
   "execution_count": 3,
   "id": "painful-amount",
   "metadata": {},
   "outputs": [
    {
     "data": {
      "text/plain": [
       "id                                  int64\n",
       "name                               object\n",
       "host_id                             int64\n",
       "host_name                          object\n",
       "neighbourhood_group                object\n",
       "neighbourhood                      object\n",
       "latitude                          float64\n",
       "longitude                         float64\n",
       "room_type                          object\n",
       "price                               int64\n",
       "minimum_nights                      int64\n",
       "number_of_reviews                   int64\n",
       "last_review                        object\n",
       "reviews_per_month                 float64\n",
       "calculated_host_listings_count      int64\n",
       "availability_365                    int64\n",
       "dtype: object"
      ]
     },
     "execution_count": 3,
     "metadata": {},
     "output_type": "execute_result"
    }
   ],
   "source": [
    "df.dtypes"
   ]
  },
  {
   "cell_type": "code",
   "execution_count": 4,
   "id": "protective-trade",
   "metadata": {},
   "outputs": [
    {
     "data": {
      "text/plain": [
       "id                                   0\n",
       "name                                13\n",
       "host_id                              0\n",
       "host_name                           23\n",
       "neighbourhood_group                  0\n",
       "neighbourhood                        0\n",
       "latitude                             0\n",
       "longitude                            0\n",
       "room_type                            0\n",
       "price                                0\n",
       "minimum_nights                       0\n",
       "number_of_reviews                    0\n",
       "last_review                       9415\n",
       "reviews_per_month                 9415\n",
       "calculated_host_listings_count       0\n",
       "availability_365                     0\n",
       "dtype: int64"
      ]
     },
     "execution_count": 4,
     "metadata": {},
     "output_type": "execute_result"
    }
   ],
   "source": [
    "df.isnull().sum()"
   ]
  },
  {
   "cell_type": "code",
   "execution_count": 5,
   "id": "surrounded-cooper",
   "metadata": {},
   "outputs": [],
   "source": [
    "df.fillna({'reviews_per_month':0}, inplace=True)\n",
    "df.fillna({'name':'noname'}, inplace=True)\n",
    "df.fillna({'host_name':'noname'}, inplace=True)\n",
    "df.fillna({'last_review':'noreviews'}, inplace=True)"
   ]
  },
  {
   "cell_type": "code",
   "execution_count": 6,
   "id": "purple-legend",
   "metadata": {},
   "outputs": [
    {
     "data": {
      "text/plain": [
       "id                                0\n",
       "name                              0\n",
       "host_id                           0\n",
       "host_name                         0\n",
       "neighbourhood_group               0\n",
       "neighbourhood                     0\n",
       "latitude                          0\n",
       "longitude                         0\n",
       "room_type                         0\n",
       "price                             0\n",
       "minimum_nights                    0\n",
       "number_of_reviews                 0\n",
       "last_review                       0\n",
       "reviews_per_month                 0\n",
       "calculated_host_listings_count    0\n",
       "availability_365                  0\n",
       "dtype: int64"
      ]
     },
     "execution_count": 6,
     "metadata": {},
     "output_type": "execute_result"
    }
   ],
   "source": [
    "df.isnull().sum()"
   ]
  },
  {
   "cell_type": "code",
   "execution_count": 7,
   "id": "agreed-stamp",
   "metadata": {},
   "outputs": [
    {
     "data": {
      "text/plain": [
       "count    36724.000000\n",
       "mean       160.109057\n",
       "std        293.888431\n",
       "min          0.000000\n",
       "25%         67.000000\n",
       "50%        108.000000\n",
       "75%        175.000000\n",
       "max      10000.000000\n",
       "Name: price, dtype: float64"
      ]
     },
     "execution_count": 7,
     "metadata": {},
     "output_type": "execute_result"
    }
   ],
   "source": [
    " df['price'].describe()"
   ]
  },
  {
   "cell_type": "code",
   "execution_count": 8,
   "id": "western-florence",
   "metadata": {},
   "outputs": [
    {
     "data": {
      "image/png": "[encoded data removed]",
      "text/plain": [
       "<Figure size 432x288 with 1 Axes>"
      ]
     },
     "metadata": {},
     "output_type": "display_data"
    }
   ],
   "source": [
    "hist_price = df['price'].hist()"
   ]
  },
  {
   "cell_type": "code",
   "execution_count": 9,
   "id": "signed-causing",
   "metadata": {},
   "outputs": [
    {
     "data": {
      "image/png": "[encoded data removed]",
      "text/plain": [
       "<Figure size 432x288 with 1 Axes>"
      ]
     },
     "metadata": {},
     "output_type": "display_data"
    }
   ],
   "source": [
    "hist_price = df['price'][df.price < 1000].hist()"
   ]
  },
  {
   "cell_type": "code",
   "execution_count": 10,
   "id": "matched-triangle",
   "metadata": {},
   "outputs": [
    {
     "data": {
      "text/html": [
       "<div>\n",
       "<style scoped>\n",
       "    .dataframe tbody tr th:only-of-type {\n",
       "        vertical-align: middle;\n",
       "    }\n",
       "\n",
       "    .dataframe tbody tr th {\n",
       "        vertical-align: top;\n",
       "    }\n",
       "\n",
       "    .dataframe thead th {\n",
       "        text-align: right;\n",
       "    }\n",
       "</style>\n",
       "<table border=\"1\" class=\"dataframe\">\n",
       "  <thead>\n",
       "    <tr style=\"text-align: right;\">\n",
       "      <th></th>\n",
       "      <th>id</th>\n",
       "      <th>name</th>\n",
       "      <th>host_id</th>\n",
       "      <th>host_name</th>\n",
       "      <th>neighbourhood_group</th>\n",
       "      <th>neighbourhood</th>\n",
       "      <th>latitude</th>\n",
       "      <th>longitude</th>\n",
       "      <th>room_type</th>\n",
       "      <th>price</th>\n",
       "      <th>minimum_nights</th>\n",
       "      <th>number_of_reviews</th>\n",
       "      <th>last_review</th>\n",
       "      <th>reviews_per_month</th>\n",
       "      <th>calculated_host_listings_count</th>\n",
       "      <th>availability_365</th>\n",
       "    </tr>\n",
       "  </thead>\n",
       "  <tbody>\n",
       "    <tr>\n",
       "      <th>299</th>\n",
       "      <td>174966</td>\n",
       "      <td>Luxury 2Bed/2.5Bath Central Park View</td>\n",
       "      <td>836168</td>\n",
       "      <td>Henry</td>\n",
       "      <td>Manhattan</td>\n",
       "      <td>Upper West Side</td>\n",
       "      <td>40.775100</td>\n",
       "      <td>-73.985950</td>\n",
       "      <td>Entire home/apt</td>\n",
       "      <td>2500</td>\n",
       "      <td>30</td>\n",
       "      <td>26</td>\n",
       "      <td>2016-01-20</td>\n",
       "      <td>0.22</td>\n",
       "      <td>10</td>\n",
       "      <td>364</td>\n",
       "    </tr>\n",
       "    <tr>\n",
       "      <th>668</th>\n",
       "      <td>468613</td>\n",
       "      <td>$1300 5/14 - 6/1 - 3 weeks - room f</td>\n",
       "      <td>2325861</td>\n",
       "      <td>Cynthia</td>\n",
       "      <td>Manhattan</td>\n",
       "      <td>Lower East Side</td>\n",
       "      <td>40.721520</td>\n",
       "      <td>-73.992790</td>\n",
       "      <td>Private room</td>\n",
       "      <td>1300</td>\n",
       "      <td>30</td>\n",
       "      <td>0</td>\n",
       "      <td>noreviews</td>\n",
       "      <td>0.00</td>\n",
       "      <td>1</td>\n",
       "      <td>0</td>\n",
       "    </tr>\n",
       "    <tr>\n",
       "      <th>892</th>\n",
       "      <td>664047</td>\n",
       "      <td>Lux 2Bed/2.5Bath Central Park Views</td>\n",
       "      <td>836168</td>\n",
       "      <td>Henry</td>\n",
       "      <td>Manhattan</td>\n",
       "      <td>Upper West Side</td>\n",
       "      <td>40.774930</td>\n",
       "      <td>-73.987320</td>\n",
       "      <td>Entire home/apt</td>\n",
       "      <td>2500</td>\n",
       "      <td>30</td>\n",
       "      <td>59</td>\n",
       "      <td>2016-01-28</td>\n",
       "      <td>0.58</td>\n",
       "      <td>10</td>\n",
       "      <td>364</td>\n",
       "    </tr>\n",
       "    <tr>\n",
       "      <th>1202</th>\n",
       "      <td>893413</td>\n",
       "      <td>Architecturally Stunning Former Synagogue!</td>\n",
       "      <td>4751930</td>\n",
       "      <td>Martin</td>\n",
       "      <td>Manhattan</td>\n",
       "      <td>East Village</td>\n",
       "      <td>40.726940</td>\n",
       "      <td>-73.981730</td>\n",
       "      <td>Entire home/apt</td>\n",
       "      <td>2536</td>\n",
       "      <td>30</td>\n",
       "      <td>28</td>\n",
       "      <td>2021-05-24</td>\n",
       "      <td>0.34</td>\n",
       "      <td>1</td>\n",
       "      <td>58</td>\n",
       "    </tr>\n",
       "    <tr>\n",
       "      <th>1512</th>\n",
       "      <td>1301321</td>\n",
       "      <td>West Village Penthouse-terrace/view</td>\n",
       "      <td>2214774</td>\n",
       "      <td>Ben And Jess</td>\n",
       "      <td>Manhattan</td>\n",
       "      <td>West Village</td>\n",
       "      <td>40.734240</td>\n",
       "      <td>-74.005320</td>\n",
       "      <td>Entire home/apt</td>\n",
       "      <td>1899</td>\n",
       "      <td>30</td>\n",
       "      <td>18</td>\n",
       "      <td>2015-10-09</td>\n",
       "      <td>0.20</td>\n",
       "      <td>1</td>\n",
       "      <td>0</td>\n",
       "    </tr>\n",
       "    <tr>\n",
       "      <th>...</th>\n",
       "      <td>...</td>\n",
       "      <td>...</td>\n",
       "      <td>...</td>\n",
       "      <td>...</td>\n",
       "      <td>...</td>\n",
       "      <td>...</td>\n",
       "      <td>...</td>\n",
       "      <td>...</td>\n",
       "      <td>...</td>\n",
       "      <td>...</td>\n",
       "      <td>...</td>\n",
       "      <td>...</td>\n",
       "      <td>...</td>\n",
       "      <td>...</td>\n",
       "      <td>...</td>\n",
       "      <td>...</td>\n",
       "    </tr>\n",
       "    <tr>\n",
       "      <th>35984</th>\n",
       "      <td>50973523</td>\n",
       "      <td>Luxurious Villa in New York</td>\n",
       "      <td>243197643</td>\n",
       "      <td>Ayaz</td>\n",
       "      <td>Queens</td>\n",
       "      <td>Whitestone</td>\n",
       "      <td>40.789050</td>\n",
       "      <td>-73.817650</td>\n",
       "      <td>Entire home/apt</td>\n",
       "      <td>1120</td>\n",
       "      <td>30</td>\n",
       "      <td>0</td>\n",
       "      <td>noreviews</td>\n",
       "      <td>0.00</td>\n",
       "      <td>1</td>\n",
       "      <td>179</td>\n",
       "    </tr>\n",
       "    <tr>\n",
       "      <th>36187</th>\n",
       "      <td>51101602</td>\n",
       "      <td>Starlit Theater Luxury Event Space Townhouse</td>\n",
       "      <td>301831302</td>\n",
       "      <td>Peter</td>\n",
       "      <td>Manhattan</td>\n",
       "      <td>Harlem</td>\n",
       "      <td>40.829590</td>\n",
       "      <td>-73.943000</td>\n",
       "      <td>Entire home/apt</td>\n",
       "      <td>1777</td>\n",
       "      <td>1</td>\n",
       "      <td>0</td>\n",
       "      <td>noreviews</td>\n",
       "      <td>0.00</td>\n",
       "      <td>10</td>\n",
       "      <td>180</td>\n",
       "    </tr>\n",
       "    <tr>\n",
       "      <th>36400</th>\n",
       "      <td>51246503</td>\n",
       "      <td>Entire 3 floors of the infamous KutKave!</td>\n",
       "      <td>39399272</td>\n",
       "      <td>Knight</td>\n",
       "      <td>Brooklyn</td>\n",
       "      <td>Bushwick</td>\n",
       "      <td>40.690576</td>\n",
       "      <td>-73.914960</td>\n",
       "      <td>Entire home/apt</td>\n",
       "      <td>2666</td>\n",
       "      <td>1</td>\n",
       "      <td>0</td>\n",
       "      <td>noreviews</td>\n",
       "      <td>0.00</td>\n",
       "      <td>8</td>\n",
       "      <td>80</td>\n",
       "    </tr>\n",
       "    <tr>\n",
       "      <th>36478</th>\n",
       "      <td>51291894</td>\n",
       "      <td>Near Times Square1</td>\n",
       "      <td>412378045</td>\n",
       "      <td>Jacqueline J</td>\n",
       "      <td>Manhattan</td>\n",
       "      <td>Financial District</td>\n",
       "      <td>40.708623</td>\n",
       "      <td>-74.007927</td>\n",
       "      <td>Entire home/apt</td>\n",
       "      <td>1011</td>\n",
       "      <td>1</td>\n",
       "      <td>0</td>\n",
       "      <td>noreviews</td>\n",
       "      <td>0.00</td>\n",
       "      <td>1</td>\n",
       "      <td>365</td>\n",
       "    </tr>\n",
       "    <tr>\n",
       "      <th>36572</th>\n",
       "      <td>51332671</td>\n",
       "      <td>Host Your Get Together Here</td>\n",
       "      <td>372832765</td>\n",
       "      <td>Dream</td>\n",
       "      <td>Brooklyn</td>\n",
       "      <td>Williamsburg</td>\n",
       "      <td>40.705699</td>\n",
       "      <td>-73.938178</td>\n",
       "      <td>Private room</td>\n",
       "      <td>1499</td>\n",
       "      <td>1</td>\n",
       "      <td>0</td>\n",
       "      <td>noreviews</td>\n",
       "      <td>0.00</td>\n",
       "      <td>11</td>\n",
       "      <td>363</td>\n",
       "    </tr>\n",
       "  </tbody>\n",
       "</table>\n",
       "<p>284 rows × 16 columns</p>\n",
       "</div>"
      ],
      "text/plain": [
       "             id                                          name    host_id  \\\n",
       "299      174966         Luxury 2Bed/2.5Bath Central Park View     836168   \n",
       "668      468613           $1300 5/14 - 6/1 - 3 weeks - room f    2325861   \n",
       "892      664047           Lux 2Bed/2.5Bath Central Park Views     836168   \n",
       "1202     893413    Architecturally Stunning Former Synagogue!    4751930   \n",
       "1512    1301321           West Village Penthouse-terrace/view    2214774   \n",
       "...         ...                                           ...        ...   \n",
       "35984  50973523                   Luxurious Villa in New York  243197643   \n",
       "36187  51101602  Starlit Theater Luxury Event Space Townhouse  301831302   \n",
       "36400  51246503      Entire 3 floors of the infamous KutKave!   39399272   \n",
       "36478  51291894                            Near Times Square1  412378045   \n",
       "36572  51332671                   Host Your Get Together Here  372832765   \n",
       "\n",
       "          host_name neighbourhood_group       neighbourhood   latitude  \\\n",
       "299           Henry           Manhattan     Upper West Side  40.775100   \n",
       "668         Cynthia           Manhattan     Lower East Side  40.721520   \n",
       "892           Henry           Manhattan     Upper West Side  40.774930   \n",
       "1202         Martin           Manhattan        East Village  40.726940   \n",
       "1512   Ben And Jess           Manhattan        West Village  40.734240   \n",
       "...             ...                 ...                 ...        ...   \n",
       "35984          Ayaz              Queens          Whitestone  40.789050   \n",
       "36187         Peter           Manhattan              Harlem  40.829590   \n",
       "36400        Knight            Brooklyn            Bushwick  40.690576   \n",
       "36478  Jacqueline J           Manhattan  Financial District  40.708623   \n",
       "36572         Dream            Brooklyn        Williamsburg  40.705699   \n",
       "\n",
       "       longitude        room_type  price  minimum_nights  number_of_reviews  \\\n",
       "299   -73.985950  Entire home/apt   2500              30                 26   \n",
       "668   -73.992790     Private room   1300              30                  0   \n",
       "892   -73.987320  Entire home/apt   2500              30                 59   \n",
       "1202  -73.981730  Entire home/apt   2536              30                 28   \n",
       "1512  -74.005320  Entire home/apt   1899              30                 18   \n",
       "...          ...              ...    ...             ...                ...   \n",
       "35984 -73.817650  Entire home/apt   1120              30                  0   \n",
       "36187 -73.943000  Entire home/apt   1777               1                  0   \n",
       "36400 -73.914960  Entire home/apt   2666               1                  0   \n",
       "36478 -74.007927  Entire home/apt   1011               1                  0   \n",
       "36572 -73.938178     Private room   1499               1                  0   \n",
       "\n",
       "      last_review  reviews_per_month  calculated_host_listings_count  \\\n",
       "299    2016-01-20               0.22                              10   \n",
       "668     noreviews               0.00                               1   \n",
       "892    2016-01-28               0.58                              10   \n",
       "1202   2021-05-24               0.34                               1   \n",
       "1512   2015-10-09               0.20                               1   \n",
       "...           ...                ...                             ...   \n",
       "35984   noreviews               0.00                               1   \n",
       "36187   noreviews               0.00                              10   \n",
       "36400   noreviews               0.00                               8   \n",
       "36478   noreviews               0.00                               1   \n",
       "36572   noreviews               0.00                              11   \n",
       "\n",
       "       availability_365  \n",
       "299                 364  \n",
       "668                   0  \n",
       "892                 364  \n",
       "1202                 58  \n",
       "1512                  0  \n",
       "...                 ...  \n",
       "35984               179  \n",
       "36187               180  \n",
       "36400                80  \n",
       "36478               365  \n",
       "36572               363  \n",
       "\n",
       "[284 rows x 16 columns]"
      ]
     },
     "execution_count": 10,
     "metadata": {},
     "output_type": "execute_result"
    }
   ],
   "source": [
    "df[df.price > 1000]"
   ]
  },
  {
   "cell_type": "code",
   "execution_count": 11,
   "id": "french-march",
   "metadata": {},
   "outputs": [],
   "source": [
    "df_ex = df[df.price >= 1000] # all the expensive listings, which is skewing the dataset\n",
    "df = df[df.price < 1000] # will now be the main dataset"
   ]
  },
  {
   "cell_type": "code",
   "execution_count": 12,
   "id": "neither-foundation",
   "metadata": {},
   "outputs": [
    {
     "data": {
      "image/png": "[encoded data removed]",
      "text/plain": [
       "<Figure size 432x288 with 1 Axes>"
      ]
     },
     "metadata": {},
     "output_type": "display_data"
    }
   ],
   "source": [
    "hist_price = df['price'][df.price < 250].hist()"
   ]
  },
  {
   "cell_type": "code",
   "execution_count": 13,
   "id": "derived-religion",
   "metadata": {},
   "outputs": [
    {
     "data": {
      "text/plain": [
       "count    31749.000000\n",
       "mean       106.251787\n",
       "std         53.662898\n",
       "min          0.000000\n",
       "25%         61.000000\n",
       "50%         96.000000\n",
       "75%        148.000000\n",
       "max        249.000000\n",
       "Name: price, dtype: float64"
      ]
     },
     "execution_count": 13,
     "metadata": {},
     "output_type": "execute_result"
    }
   ],
   "source": [
    "df_ex2 = df[df.price >= 250]\n",
    "df = df[df.price < 250]\n",
    "df['price'].describe()"
   ]
  },
  {
   "cell_type": "code",
   "execution_count": 14,
   "id": "animated-prospect",
   "metadata": {},
   "outputs": [
    {
     "data": {
      "text/plain": [
       "Bedford-Stuyvesant        2499\n",
       "Williamsburg              2292\n",
       "Harlem                    1793\n",
       "Bushwick                  1630\n",
       "Upper West Side           1177\n",
       "                          ... \n",
       "Chelsea, Staten Island       1\n",
       "Todt Hill                    1\n",
       "Country Club                 1\n",
       "Gerritsen Beach              1\n",
       "Castle Hill                  1\n",
       "Name: neighbourhood, Length: 220, dtype: int64"
      ]
     },
     "execution_count": 14,
     "metadata": {},
     "output_type": "execute_result"
    }
   ],
   "source": [
    "df['neighbourhood'].value_counts()"
   ]
  },
  {
   "cell_type": "code",
   "execution_count": 15,
   "id": "informative-missile",
   "metadata": {},
   "outputs": [],
   "source": [
    "df_nh = df.groupby('neighbourhood').filter(lambda x: x['neighbourhood'].count() > 200)"
   ]
  },
  {
   "cell_type": "code",
   "execution_count": 16,
   "id": "adopted-syracuse",
   "metadata": {},
   "outputs": [
    {
     "data": {
      "text/plain": [
       "24966"
      ]
     },
     "execution_count": 16,
     "metadata": {},
     "output_type": "execute_result"
    }
   ],
   "source": [
    "len(df_nh['neighbourhood'])"
   ]
  },
  {
   "cell_type": "code",
   "execution_count": 17,
   "id": "magnetic-duplicate",
   "metadata": {},
   "outputs": [
    {
     "data": {
      "text/plain": [
       "9"
      ]
     },
     "execution_count": 17,
     "metadata": {},
     "output_type": "execute_result"
    }
   ],
   "source": [
    "df_nh = df.groupby('neighbourhood').filter(lambda x: x['neighbourhood'].count() == 1)\n",
    "len(df_nh.neighbourhood)"
   ]
  },
  {
   "cell_type": "code",
   "execution_count": 18,
   "id": "legal-ferry",
   "metadata": {},
   "outputs": [
    {
     "data": {
      "text/plain": [
       "Brooklyn         13064\n",
       "Manhattan        12792\n",
       "Queens            4627\n",
       "Bronx              971\n",
       "Staten Island      295\n",
       "Name: neighbourhood_group, dtype: int64"
      ]
     },
     "execution_count": 18,
     "metadata": {},
     "output_type": "execute_result"
    }
   ],
   "source": [
    "df.neighbourhood_group.value_counts()"
   ]
  },
  {
   "cell_type": "code",
   "execution_count": 19,
   "id": "interracial-finland",
   "metadata": {},
   "outputs": [
    {
     "data": {
      "text/plain": [
       "neighbourhood_group\n",
       "Bronx             85.559217\n",
       "Brooklyn          98.825781\n",
       "Manhattan        123.689884\n",
       "Queens            84.345580\n",
       "Staten Island     90.650847\n",
       "Name: price, dtype: float64"
      ]
     },
     "execution_count": 19,
     "metadata": {},
     "output_type": "execute_result"
    }
   ],
   "source": [
    "ng_price = df.groupby('neighbourhood_group')['price'].mean()\n",
    "ng_price"
   ]
  },
  {
   "cell_type": "code",
   "execution_count": 20,
   "id": "recognized-selling",
   "metadata": {},
   "outputs": [
    {
     "name": "stderr",
     "output_type": "stream",
     "text": [
      "/home/khan/.miniconda3/lib/python3.8/site-packages/seaborn/categorical.py:1296: UserWarning: 96.2% of the points cannot be placed; you may want to decrease the size of the markers or use stripplot.\n",
      "  warnings.warn(msg, UserWarning)\n",
      "/home/khan/.miniconda3/lib/python3.8/site-packages/seaborn/categorical.py:1296: UserWarning: 96.3% of the points cannot be placed; you may want to decrease the size of the markers or use stripplot.\n",
      "  warnings.warn(msg, UserWarning)\n",
      "/home/khan/.miniconda3/lib/python3.8/site-packages/seaborn/categorical.py:1296: UserWarning: 90.4% of the points cannot be placed; you may want to decrease the size of the markers or use stripplot.\n",
      "  warnings.warn(msg, UserWarning)\n",
      "/home/khan/.miniconda3/lib/python3.8/site-packages/seaborn/categorical.py:1296: UserWarning: 24.1% of the points cannot be placed; you may want to decrease the size of the markers or use stripplot.\n",
      "  warnings.warn(msg, UserWarning)\n",
      "/home/khan/.miniconda3/lib/python3.8/site-packages/seaborn/categorical.py:1296: UserWarning: 66.0% of the points cannot be placed; you may want to decrease the size of the markers or use stripplot.\n",
      "  warnings.warn(msg, UserWarning)\n"
     ]
    },
    {
     "data": {
      "text/plain": [
       "<seaborn.axisgrid.FacetGrid at 0x7fea4d050f70>"
      ]
     },
     "execution_count": 20,
     "metadata": {},
     "output_type": "execute_result"
    },
    {
     "data": {
      "image/png": "[encoded data removed]",
      "text/plain": [
       "<Figure size 489.1x360 with 1 Axes>"
      ]
     },
     "metadata": {},
     "output_type": "display_data"
    }
   ],
   "source": [
    "plott = sns.catplot(x='neighbourhood_group', y='price', hue='room_type', kind='swarm', data=df)\n",
    "plott"
   ]
  },
  {
   "cell_type": "code",
   "execution_count": 21,
   "id": "suffering-benjamin",
   "metadata": {},
   "outputs": [
    {
     "data": {
      "text/plain": [
       "334"
      ]
     },
     "execution_count": 21,
     "metadata": {},
     "output_type": "execute_result"
    }
   ],
   "source": [
    "df_hosts = df.groupby(['host_id'])\n",
    "max(df_hosts.size())"
   ]
  },
  {
   "cell_type": "code",
   "execution_count": 22,
   "id": "mineral-intro",
   "metadata": {},
   "outputs": [
    {
     "data": {
      "text/plain": [
       "1    19342\n",
       "2     2028\n",
       "3      596\n",
       "4      238\n",
       "5      105\n",
       "dtype: int64"
      ]
     },
     "execution_count": 22,
     "metadata": {},
     "output_type": "execute_result"
    }
   ],
   "source": [
    "df_hosts.size().value_counts().head()"
   ]
  },
  {
   "cell_type": "code",
   "execution_count": 23,
   "id": "relevant-cartoon",
   "metadata": {},
   "outputs": [
    {
     "data": {
      "text/plain": [
       "169    1\n",
       "121    1\n",
       "32     1\n",
       "53     1\n",
       "95     1\n",
       "dtype: int64"
      ]
     },
     "execution_count": 23,
     "metadata": {},
     "output_type": "execute_result"
    }
   ],
   "source": [
    "df_hosts.size().value_counts().tail()"
   ]
  },
  {
   "cell_type": "code",
   "execution_count": 24,
   "id": "employed-landscape",
   "metadata": {},
   "outputs": [
    {
     "data": {
      "text/plain": [
       "305240193"
      ]
     },
     "execution_count": 24,
     "metadata": {},
     "output_type": "execute_result"
    }
   ],
   "source": [
    "host_id_counts = df['host_id'].value_counts()\n",
    "max_host = host_id_counts.idxmax()\n",
    "max_host"
   ]
  },
  {
   "cell_type": "code",
   "execution_count": 25,
   "id": "mineral-command",
   "metadata": {},
   "outputs": [
    {
     "data": {
      "text/html": [
       "<div>\n",
       "<style scoped>\n",
       "    .dataframe tbody tr th:only-of-type {\n",
       "        vertical-align: middle;\n",
       "    }\n",
       "\n",
       "    .dataframe tbody tr th {\n",
       "        vertical-align: top;\n",
       "    }\n",
       "\n",
       "    .dataframe thead th {\n",
       "        text-align: right;\n",
       "    }\n",
       "</style>\n",
       "<table border=\"1\" class=\"dataframe\">\n",
       "  <thead>\n",
       "    <tr style=\"text-align: right;\">\n",
       "      <th></th>\n",
       "      <th>id</th>\n",
       "      <th>name</th>\n",
       "      <th>host_id</th>\n",
       "      <th>host_name</th>\n",
       "      <th>neighbourhood_group</th>\n",
       "      <th>neighbourhood</th>\n",
       "      <th>latitude</th>\n",
       "      <th>longitude</th>\n",
       "      <th>room_type</th>\n",
       "      <th>price</th>\n",
       "      <th>minimum_nights</th>\n",
       "      <th>number_of_reviews</th>\n",
       "      <th>last_review</th>\n",
       "      <th>reviews_per_month</th>\n",
       "      <th>calculated_host_listings_count</th>\n",
       "      <th>availability_365</th>\n",
       "    </tr>\n",
       "  </thead>\n",
       "  <tbody>\n",
       "    <tr>\n",
       "      <th>27885</th>\n",
       "      <td>43298710</td>\n",
       "      <td>Furnished 1 BR with Amenities in Upper West Side</td>\n",
       "      <td>305240193</td>\n",
       "      <td>June</td>\n",
       "      <td>Manhattan</td>\n",
       "      <td>Upper West Side</td>\n",
       "      <td>40.785500</td>\n",
       "      <td>-73.974710</td>\n",
       "      <td>Entire home/apt</td>\n",
       "      <td>153</td>\n",
       "      <td>30</td>\n",
       "      <td>0</td>\n",
       "      <td>noreviews</td>\n",
       "      <td>0.0</td>\n",
       "      <td>335</td>\n",
       "      <td>341</td>\n",
       "    </tr>\n",
       "    <tr>\n",
       "      <th>27894</th>\n",
       "      <td>43309759</td>\n",
       "      <td>Fully-Furnished Upper West Side Nook w/ Amenities</td>\n",
       "      <td>305240193</td>\n",
       "      <td>June</td>\n",
       "      <td>Manhattan</td>\n",
       "      <td>Upper West Side</td>\n",
       "      <td>40.784890</td>\n",
       "      <td>-73.975200</td>\n",
       "      <td>Entire home/apt</td>\n",
       "      <td>146</td>\n",
       "      <td>30</td>\n",
       "      <td>0</td>\n",
       "      <td>noreviews</td>\n",
       "      <td>0.0</td>\n",
       "      <td>335</td>\n",
       "      <td>364</td>\n",
       "    </tr>\n",
       "    <tr>\n",
       "      <th>27895</th>\n",
       "      <td>43309826</td>\n",
       "      <td>Fully Furnished Sunny 1 Bedroom in Upper West ...</td>\n",
       "      <td>305240193</td>\n",
       "      <td>June</td>\n",
       "      <td>Manhattan</td>\n",
       "      <td>Upper West Side</td>\n",
       "      <td>40.783450</td>\n",
       "      <td>-73.975160</td>\n",
       "      <td>Entire home/apt</td>\n",
       "      <td>141</td>\n",
       "      <td>30</td>\n",
       "      <td>0</td>\n",
       "      <td>noreviews</td>\n",
       "      <td>0.0</td>\n",
       "      <td>335</td>\n",
       "      <td>354</td>\n",
       "    </tr>\n",
       "    <tr>\n",
       "      <th>27906</th>\n",
       "      <td>43314395</td>\n",
       "      <td>Brick Studio w/ Outdoor Space in Upper East Side</td>\n",
       "      <td>305240193</td>\n",
       "      <td>June</td>\n",
       "      <td>Manhattan</td>\n",
       "      <td>Upper East Side</td>\n",
       "      <td>40.775410</td>\n",
       "      <td>-73.953380</td>\n",
       "      <td>Entire home/apt</td>\n",
       "      <td>124</td>\n",
       "      <td>30</td>\n",
       "      <td>0</td>\n",
       "      <td>noreviews</td>\n",
       "      <td>0.0</td>\n",
       "      <td>335</td>\n",
       "      <td>364</td>\n",
       "    </tr>\n",
       "    <tr>\n",
       "      <th>28103</th>\n",
       "      <td>43473694</td>\n",
       "      <td>Urban Living in Upper West Size Sunlit Home</td>\n",
       "      <td>305240193</td>\n",
       "      <td>June</td>\n",
       "      <td>Manhattan</td>\n",
       "      <td>Upper West Side</td>\n",
       "      <td>40.785570</td>\n",
       "      <td>-73.974920</td>\n",
       "      <td>Entire home/apt</td>\n",
       "      <td>151</td>\n",
       "      <td>30</td>\n",
       "      <td>0</td>\n",
       "      <td>noreviews</td>\n",
       "      <td>0.0</td>\n",
       "      <td>335</td>\n",
       "      <td>364</td>\n",
       "    </tr>\n",
       "    <tr>\n",
       "      <th>...</th>\n",
       "      <td>...</td>\n",
       "      <td>...</td>\n",
       "      <td>...</td>\n",
       "      <td>...</td>\n",
       "      <td>...</td>\n",
       "      <td>...</td>\n",
       "      <td>...</td>\n",
       "      <td>...</td>\n",
       "      <td>...</td>\n",
       "      <td>...</td>\n",
       "      <td>...</td>\n",
       "      <td>...</td>\n",
       "      <td>...</td>\n",
       "      <td>...</td>\n",
       "      <td>...</td>\n",
       "      <td>...</td>\n",
       "    </tr>\n",
       "    <tr>\n",
       "      <th>36622</th>\n",
       "      <td>51355168</td>\n",
       "      <td>Spacious Room in 4-BR Apartment in Ridgewood</td>\n",
       "      <td>305240193</td>\n",
       "      <td>June</td>\n",
       "      <td>Queens</td>\n",
       "      <td>Ridgewood</td>\n",
       "      <td>40.702521</td>\n",
       "      <td>-73.903980</td>\n",
       "      <td>Private room</td>\n",
       "      <td>44</td>\n",
       "      <td>30</td>\n",
       "      <td>0</td>\n",
       "      <td>noreviews</td>\n",
       "      <td>0.0</td>\n",
       "      <td>335</td>\n",
       "      <td>364</td>\n",
       "    </tr>\n",
       "    <tr>\n",
       "      <th>36623</th>\n",
       "      <td>51355587</td>\n",
       "      <td>Comfy Room in 4-BR Apartment in Ridgewood</td>\n",
       "      <td>305240193</td>\n",
       "      <td>June</td>\n",
       "      <td>Queens</td>\n",
       "      <td>Ridgewood</td>\n",
       "      <td>40.702483</td>\n",
       "      <td>-73.904217</td>\n",
       "      <td>Private room</td>\n",
       "      <td>30</td>\n",
       "      <td>30</td>\n",
       "      <td>0</td>\n",
       "      <td>noreviews</td>\n",
       "      <td>0.0</td>\n",
       "      <td>335</td>\n",
       "      <td>338</td>\n",
       "    </tr>\n",
       "    <tr>\n",
       "      <th>36626</th>\n",
       "      <td>51357612</td>\n",
       "      <td>Unfurnished 4 Bedroom Apartment in West Harlem</td>\n",
       "      <td>305240193</td>\n",
       "      <td>June</td>\n",
       "      <td>Manhattan</td>\n",
       "      <td>Harlem</td>\n",
       "      <td>40.811898</td>\n",
       "      <td>-73.953118</td>\n",
       "      <td>Entire home/apt</td>\n",
       "      <td>225</td>\n",
       "      <td>30</td>\n",
       "      <td>0</td>\n",
       "      <td>noreviews</td>\n",
       "      <td>0.0</td>\n",
       "      <td>335</td>\n",
       "      <td>364</td>\n",
       "    </tr>\n",
       "    <tr>\n",
       "      <th>36628</th>\n",
       "      <td>51358030</td>\n",
       "      <td>Unfurnished 2 Bedroom Apartment in East Harlem</td>\n",
       "      <td>305240193</td>\n",
       "      <td>June</td>\n",
       "      <td>Manhattan</td>\n",
       "      <td>East Harlem</td>\n",
       "      <td>40.795075</td>\n",
       "      <td>-73.947289</td>\n",
       "      <td>Entire home/apt</td>\n",
       "      <td>138</td>\n",
       "      <td>30</td>\n",
       "      <td>0</td>\n",
       "      <td>noreviews</td>\n",
       "      <td>0.0</td>\n",
       "      <td>335</td>\n",
       "      <td>364</td>\n",
       "    </tr>\n",
       "    <tr>\n",
       "      <th>36696</th>\n",
       "      <td>51424782</td>\n",
       "      <td>Modern 1 Bedroom Apartment in Hell's Kitchen</td>\n",
       "      <td>305240193</td>\n",
       "      <td>June</td>\n",
       "      <td>Manhattan</td>\n",
       "      <td>Hell's Kitchen</td>\n",
       "      <td>40.764892</td>\n",
       "      <td>-73.986630</td>\n",
       "      <td>Entire home/apt</td>\n",
       "      <td>119</td>\n",
       "      <td>30</td>\n",
       "      <td>0</td>\n",
       "      <td>noreviews</td>\n",
       "      <td>0.0</td>\n",
       "      <td>335</td>\n",
       "      <td>324</td>\n",
       "    </tr>\n",
       "  </tbody>\n",
       "</table>\n",
       "<p>334 rows × 16 columns</p>\n",
       "</div>"
      ],
      "text/plain": [
       "             id                                               name    host_id  \\\n",
       "27885  43298710   Furnished 1 BR with Amenities in Upper West Side  305240193   \n",
       "27894  43309759  Fully-Furnished Upper West Side Nook w/ Amenities  305240193   \n",
       "27895  43309826  Fully Furnished Sunny 1 Bedroom in Upper West ...  305240193   \n",
       "27906  43314395   Brick Studio w/ Outdoor Space in Upper East Side  305240193   \n",
       "28103  43473694        Urban Living in Upper West Size Sunlit Home  305240193   \n",
       "...         ...                                                ...        ...   \n",
       "36622  51355168       Spacious Room in 4-BR Apartment in Ridgewood  305240193   \n",
       "36623  51355587          Comfy Room in 4-BR Apartment in Ridgewood  305240193   \n",
       "36626  51357612     Unfurnished 4 Bedroom Apartment in West Harlem  305240193   \n",
       "36628  51358030     Unfurnished 2 Bedroom Apartment in East Harlem  305240193   \n",
       "36696  51424782       Modern 1 Bedroom Apartment in Hell's Kitchen  305240193   \n",
       "\n",
       "      host_name neighbourhood_group    neighbourhood   latitude  longitude  \\\n",
       "27885      June           Manhattan  Upper West Side  40.785500 -73.974710   \n",
       "27894      June           Manhattan  Upper West Side  40.784890 -73.975200   \n",
       "27895      June           Manhattan  Upper West Side  40.783450 -73.975160   \n",
       "27906      June           Manhattan  Upper East Side  40.775410 -73.953380   \n",
       "28103      June           Manhattan  Upper West Side  40.785570 -73.974920   \n",
       "...         ...                 ...              ...        ...        ...   \n",
       "36622      June              Queens        Ridgewood  40.702521 -73.903980   \n",
       "36623      June              Queens        Ridgewood  40.702483 -73.904217   \n",
       "36626      June           Manhattan           Harlem  40.811898 -73.953118   \n",
       "36628      June           Manhattan      East Harlem  40.795075 -73.947289   \n",
       "36696      June           Manhattan   Hell's Kitchen  40.764892 -73.986630   \n",
       "\n",
       "             room_type  price  minimum_nights  number_of_reviews last_review  \\\n",
       "27885  Entire home/apt    153              30                  0   noreviews   \n",
       "27894  Entire home/apt    146              30                  0   noreviews   \n",
       "27895  Entire home/apt    141              30                  0   noreviews   \n",
       "27906  Entire home/apt    124              30                  0   noreviews   \n",
       "28103  Entire home/apt    151              30                  0   noreviews   \n",
       "...                ...    ...             ...                ...         ...   \n",
       "36622     Private room     44              30                  0   noreviews   \n",
       "36623     Private room     30              30                  0   noreviews   \n",
       "36626  Entire home/apt    225              30                  0   noreviews   \n",
       "36628  Entire home/apt    138              30                  0   noreviews   \n",
       "36696  Entire home/apt    119              30                  0   noreviews   \n",
       "\n",
       "       reviews_per_month  calculated_host_listings_count  availability_365  \n",
       "27885                0.0                             335               341  \n",
       "27894                0.0                             335               364  \n",
       "27895                0.0                             335               354  \n",
       "27906                0.0                             335               364  \n",
       "28103                0.0                             335               364  \n",
       "...                  ...                             ...               ...  \n",
       "36622                0.0                             335               364  \n",
       "36623                0.0                             335               338  \n",
       "36626                0.0                             335               364  \n",
       "36628                0.0                             335               364  \n",
       "36696                0.0                             335               324  \n",
       "\n",
       "[334 rows x 16 columns]"
      ]
     },
     "execution_count": 25,
     "metadata": {},
     "output_type": "execute_result"
    }
   ],
   "source": [
    "df[df['host_id'] == max_host]"
   ]
  },
  {
   "cell_type": "code",
   "execution_count": 26,
   "id": "framed-october",
   "metadata": {},
   "outputs": [],
   "source": [
    "df = df.drop(columns=['id', 'host_name']) # not too useful\n",
    "df['name_length'] = df['name'].map(str).apply(len)"
   ]
  },
  {
   "cell_type": "code",
   "execution_count": 27,
   "id": "differential-friend",
   "metadata": {},
   "outputs": [
    {
     "name": "stdout",
     "output_type": "stream",
     "text": [
      "173\n",
      "1\n",
      "35555\n",
      "6959\n"
     ]
    }
   ],
   "source": [
    "print(df['name_length'].max())\n",
    "print(df['name_length'].min())\n",
    "print(df['name_length'].idxmax())\n",
    "print(df['name_length'].idxmin())"
   ]
  },
  {
   "cell_type": "code",
   "execution_count": 28,
   "id": "focused-texture",
   "metadata": {},
   "outputs": [
    {
     "data": {
      "text/plain": [
       "'Full size bed, beautiful freshly renovated room with plenty of closet space.  high-speed internet/ Wifi. 20min train ride to Central Park. Close to shopping and restaurants.'"
      ]
     },
     "execution_count": 28,
     "metadata": {},
     "output_type": "execute_result"
    }
   ],
   "source": [
    "df.at[35555, 'name']"
   ]
  },
  {
   "cell_type": "code",
   "execution_count": 29,
   "id": "english-decade",
   "metadata": {},
   "outputs": [
    {
     "data": {
      "text/plain": [
       "'a'"
      ]
     },
     "execution_count": 29,
     "metadata": {},
     "output_type": "execute_result"
    }
   ],
   "source": [
    "df.at[6959, 'name']"
   ]
  },
  {
   "cell_type": "code",
   "execution_count": 30,
   "id": "operational-corporation",
   "metadata": {},
   "outputs": [
    {
     "name": "stderr",
     "output_type": "stream",
     "text": [
      "*c* argument looks like a single numeric RGB or RGBA sequence, which should be avoided as value-mapping will have precedence in case its length matches with *x* & *y*.  Please use the *color* keyword-argument or provide a 2-D array with a single row if you intend to specify the same RGB or RGBA value for all points.\n"
     ]
    },
    {
     "data": {
      "text/plain": [
       "<AxesSubplot:xlabel='name_length', ylabel='number_of_reviews'>"
      ]
     },
     "execution_count": 30,
     "metadata": {},
     "output_type": "execute_result"
    },
    {
     "data": {
      "image/png": "[encoded data removed]",
      "text/plain": [
       "<Figure size 432x288 with 1 Axes>"
      ]
     },
     "metadata": {},
     "output_type": "display_data"
    }
   ],
   "source": [
    "df.plot.scatter(x='name_length', y='number_of_reviews') # seeing if theres a relationship between name length and popularity (measured by # of reviews)"
   ]
  },
  {
   "cell_type": "code",
   "execution_count": 31,
   "id": "integral-discharge",
   "metadata": {},
   "outputs": [
    {
     "name": "stderr",
     "output_type": "stream",
     "text": [
      "*c* argument looks like a single numeric RGB or RGBA sequence, which should be avoided as value-mapping will have precedence in case its length matches with *x* & *y*.  Please use the *color* keyword-argument or provide a 2-D array with a single row if you intend to specify the same RGB or RGBA value for all points.\n"
     ]
    },
    {
     "data": {
      "text/plain": [
       "<AxesSubplot:xlabel='price', ylabel='name_length'>"
      ]
     },
     "execution_count": 31,
     "metadata": {},
     "output_type": "execute_result"
    },
    {
     "data": {
      "image/png": "[encoded data removed]",
      "text/plain": [
       "<Figure size 432x288 with 1 Axes>"
      ]
     },
     "metadata": {},
     "output_type": "display_data"
    }
   ],
   "source": [
    "df[df['name_length'] < 50].plot.scatter(x='price', y='name_length')"
   ]
  },
  {
   "cell_type": "code",
   "execution_count": 32,
   "id": "theoretical-fifth",
   "metadata": {},
   "outputs": [
    {
     "data": {
      "text/plain": [
       "<AxesSubplot:>"
      ]
     },
     "execution_count": 32,
     "metadata": {},
     "output_type": "execute_result"
    },
    {
     "data": {
      "image/png": "[encoded data removed]",
      "text/plain": [
       "<Figure size 432x288 with 1 Axes>"
      ]
     },
     "metadata": {},
     "output_type": "display_data"
    }
   ],
   "source": [
    "df.name_length.hist()"
   ]
  },
  {
   "cell_type": "code",
   "execution_count": 33,
   "id": "available-slovakia",
   "metadata": {},
   "outputs": [
    {
     "data": {
      "text/plain": [
       "Private room       15805\n",
       "Entire home/apt    15224\n",
       "Shared room          569\n",
       "Hotel room           151\n",
       "Name: room_type, dtype: int64"
      ]
     },
     "execution_count": 33,
     "metadata": {},
     "output_type": "execute_result"
    }
   ],
   "source": [
    "df['room_type'].value_counts()"
   ]
  },
  {
   "cell_type": "code",
   "execution_count": 34,
   "id": "discrete-spiritual",
   "metadata": {},
   "outputs": [],
   "source": [
    "rt_price = df.groupby('room_type')['price'].mean()"
   ]
  },
  {
   "cell_type": "code",
   "execution_count": 35,
   "id": "strange-thermal",
   "metadata": {},
   "outputs": [
    {
     "data": {
      "text/plain": [
       "room_type\n",
       "Entire home/apt    139.950604\n",
       "Hotel room         125.642384\n",
       "Private room        75.233597\n",
       "Shared room         61.056239\n",
       "Name: price, dtype: float64"
      ]
     },
     "execution_count": 35,
     "metadata": {},
     "output_type": "execute_result"
    }
   ],
   "source": [
    "rt_price"
   ]
  },
  {
   "cell_type": "code",
   "execution_count": 36,
   "id": "democratic-display",
   "metadata": {},
   "outputs": [
    {
     "data": {
      "text/plain": [
       "count    31749.000000\n",
       "mean        22.725157\n",
       "std         27.783337\n",
       "min          1.000000\n",
       "25%          3.000000\n",
       "50%         30.000000\n",
       "75%         30.000000\n",
       "max       1250.000000\n",
       "Name: minimum_nights, dtype: float64"
      ]
     },
     "execution_count": 36,
     "metadata": {},
     "output_type": "execute_result"
    }
   ],
   "source": [
    "df['minimum_nights'].describe()"
   ]
  },
  {
   "cell_type": "code",
   "execution_count": 37,
   "id": "heard-split",
   "metadata": {},
   "outputs": [
    {
     "data": {
      "text/plain": [
       "<AxesSubplot:>"
      ]
     },
     "execution_count": 37,
     "metadata": {},
     "output_type": "execute_result"
    },
    {
     "data": {
      "image/png": "[encoded data removed]",
      "text/plain": [
       "<Figure size 432x288 with 1 Axes>"
      ]
     },
     "metadata": {},
     "output_type": "display_data"
    }
   ],
   "source": [
    "hist_mn = df['minimum_nights'].hist()\n",
    "hist_mn"
   ]
  },
  {
   "cell_type": "code",
   "execution_count": 38,
   "id": "modified-federal",
   "metadata": {},
   "outputs": [
    {
     "data": {
      "text/plain": [
       "<AxesSubplot:>"
      ]
     },
     "execution_count": 38,
     "metadata": {},
     "output_type": "execute_result"
    },
    {
     "data": {
      "image/png": "[encoded data removed]",
      "text/plain": [
       "<Figure size 432x288 with 1 Axes>"
      ]
     },
     "metadata": {},
     "output_type": "display_data"
    }
   ],
   "source": [
    "hist_mn1 = df['minimum_nights'][df.minimum_nights < 10].hist()\n",
    "hist_mn1"
   ]
  },
  {
   "cell_type": "code",
   "execution_count": 39,
   "id": "wound-humor",
   "metadata": {},
   "outputs": [
    {
     "data": {
      "text/plain": [
       "42       150\n",
       "46        31\n",
       "78       120\n",
       "86        90\n",
       "100       31\n",
       "        ... \n",
       "36674     90\n",
       "36675     90\n",
       "36684    180\n",
       "36711     90\n",
       "36713     90\n",
       "Name: minimum_nights, Length: 1149, dtype: int64"
      ]
     },
     "execution_count": 39,
     "metadata": {},
     "output_type": "execute_result"
    }
   ],
   "source": [
    "df['minimum_nights'][df.minimum_nights > 30]"
   ]
  },
  {
   "cell_type": "code",
   "execution_count": 40,
   "id": "backed-avenue",
   "metadata": {},
   "outputs": [],
   "source": [
    "df.loc[(df.minimum_nights > 30), 'minimum_nights']=30"
   ]
  },
  {
   "cell_type": "code",
   "execution_count": 41,
   "id": "forty-vehicle",
   "metadata": {},
   "outputs": [
    {
     "data": {
      "text/plain": [
       "<AxesSubplot:>"
      ]
     },
     "execution_count": 41,
     "metadata": {},
     "output_type": "execute_result"
    },
    {
     "data": {
      "image/png": "[encoded data removed]",
      "text/plain": [
       "<Figure size 432x288 with 1 Axes>"
      ]
     },
     "metadata": {},
     "output_type": "display_data"
    }
   ],
   "source": [
    "hist_mn2 = df['minimum_nights'][df.minimum_nights < 30].hist()\n",
    "hist_mn2"
   ]
  },
  {
   "cell_type": "code",
   "execution_count": 42,
   "id": "unknown-kruger",
   "metadata": {},
   "outputs": [
    {
     "data": {
      "text/plain": [
       "-0.06445292704193134"
      ]
     },
     "execution_count": 42,
     "metadata": {},
     "output_type": "execute_result"
    }
   ],
   "source": [
    "df['minimum_nights'].corr(df['price'])"
   ]
  },
  {
   "cell_type": "code",
   "execution_count": 43,
   "id": "cultural-example",
   "metadata": {},
   "outputs": [
    {
     "data": {
      "text/plain": [
       "count    31749.000000\n",
       "mean       116.972881\n",
       "std        136.972843\n",
       "min          0.000000\n",
       "25%          0.000000\n",
       "50%         44.000000\n",
       "75%        246.000000\n",
       "max        365.000000\n",
       "Name: availability_365, dtype: float64"
      ]
     },
     "execution_count": 43,
     "metadata": {},
     "output_type": "execute_result"
    }
   ],
   "source": [
    "df['availability_365'].describe()"
   ]
  },
  {
   "cell_type": "code",
   "execution_count": 44,
   "id": "entertaining-picnic",
   "metadata": {},
   "outputs": [
    {
     "data": {
      "text/plain": [
       "<AxesSubplot:>"
      ]
     },
     "execution_count": 44,
     "metadata": {},
     "output_type": "execute_result"
    },
    {
     "data": {
      "image/png": "[encoded data removed]",
      "text/plain": [
       "<Figure size 432x288 with 1 Axes>"
      ]
     },
     "metadata": {},
     "output_type": "display_data"
    }
   ],
   "source": [
    "hist_av = df['availability_365'].hist()\n",
    "hist_av"
   ]
  },
  {
   "cell_type": "code",
   "execution_count": 45,
   "id": "heated-trunk",
   "metadata": {},
   "outputs": [],
   "source": [
    "df.drop(['name', 'last_review', 'latitude', 'longitude'], axis=1, inplace=True)"
   ]
  },
  {
   "cell_type": "code",
   "execution_count": 46,
   "id": "southeast-choice",
   "metadata": {},
   "outputs": [],
   "source": [
    "df.drop(['host_id'], axis=1, inplace=True)"
   ]
  },
  {
   "cell_type": "code",
   "execution_count": 47,
   "id": "cheap-court",
   "metadata": {},
   "outputs": [
    {
     "data": {
      "text/plain": [
       "Index(['neighbourhood_group', 'neighbourhood', 'room_type', 'price',\n",
       "       'minimum_nights', 'number_of_reviews', 'reviews_per_month',\n",
       "       'calculated_host_listings_count', 'availability_365', 'name_length'],\n",
       "      dtype='object')"
      ]
     },
     "execution_count": 47,
     "metadata": {},
     "output_type": "execute_result"
    },
    {
     "data": {
      "image/png": "[encoded data removed]",
      "text/plain": [
       "<Figure size 1080x576 with 2 Axes>"
      ]
     },
     "metadata": {},
     "output_type": "display_data"
    }
   ],
   "source": [
    "corr = df.corr(method='pearson')\n",
    "plt.figure(figsize=(15,8))\n",
    "sns.heatmap(corr, annot=True)\n",
    "df.columns"
   ]
  },
  {
   "cell_type": "code",
   "execution_count": 48,
   "id": "sunrise-playback",
   "metadata": {},
   "outputs": [
    {
     "data": {
      "text/plain": [
       "neighbourhood_group                object\n",
       "neighbourhood                      object\n",
       "room_type                          object\n",
       "price                               int64\n",
       "minimum_nights                      int64\n",
       "number_of_reviews                   int64\n",
       "reviews_per_month                 float64\n",
       "calculated_host_listings_count      int64\n",
       "availability_365                    int64\n",
       "name_length                         int64\n",
       "dtype: object"
      ]
     },
     "execution_count": 48,
     "metadata": {},
     "output_type": "execute_result"
    }
   ],
   "source": [
    "df.dtypes"
   ]
  },
  {
   "cell_type": "code",
   "execution_count": 49,
   "id": "immune-active",
   "metadata": {},
   "outputs": [
    {
     "data": {
      "text/plain": [
       "(31749, 14)"
      ]
     },
     "execution_count": 49,
     "metadata": {},
     "output_type": "execute_result"
    }
   ],
   "source": [
    "oh1 = pd.get_dummies(df, columns=['neighbourhood_group', 'room_type'], prefix=['ng', 'rt'], drop_first=True)\n",
    "oh1.drop(['neighbourhood'], axis=1, inplace=True)\n",
    "oh1.shape"
   ]
  },
  {
   "cell_type": "code",
   "execution_count": 50,
   "id": "described-castle",
   "metadata": {},
   "outputs": [],
   "source": [
    "X1 = oh1.loc[:, oh1.columns != 'price']\n",
    "Y1 = oh1['price']"
   ]
  },
  {
   "cell_type": "code",
   "execution_count": 52,
   "id": "preceding-acrylic",
   "metadata": {},
   "outputs": [],
   "source": [
    "from sklearn import preprocessing, metrics\n",
    "from sklearn.linear_model import LinearRegression\n",
    "from sklearn.linear_model import Lasso\n",
    "from sklearn.ensemble import RandomForestRegressor\n",
    "from sklearn.model_selection import train_test_split"
   ]
  },
  {
   "cell_type": "code",
   "execution_count": 53,
   "id": "veterinary-potential",
   "metadata": {},
   "outputs": [],
   "source": [
    "x_train1, x_test1, y_train1, y_test1 = train_test_split(X1, Y1, test_size=0.20, random_state=72)"
   ]
  },
  {
   "cell_type": "code",
   "execution_count": 54,
   "id": "adjusted-auditor",
   "metadata": {},
   "outputs": [],
   "source": [
    "reg1 = LinearRegression().fit(x_train1, y_train1)"
   ]
  },
  {
   "cell_type": "code",
   "execution_count": 55,
   "id": "derived-personal",
   "metadata": {},
   "outputs": [
    {
     "data": {
      "text/plain": [
       "0.4285690093335496"
      ]
     },
     "execution_count": 55,
     "metadata": {},
     "output_type": "execute_result"
    }
   ],
   "source": [
    "reg1.score(x_train1, y_train1)"
   ]
  },
  {
   "cell_type": "code",
   "execution_count": 56,
   "id": "aggregate-shoulder",
   "metadata": {},
   "outputs": [
    {
     "data": {
      "text/plain": [
       "array([-4.27840174e-01, -2.80534003e-02,  2.81498308e-01, -5.50564640e-02,\n",
       "        3.04950541e-02,  1.40527516e-01,  1.38376199e+01,  3.41053553e+01,\n",
       "        4.99209949e+00, -2.83129435e+00, -3.17356867e+01, -6.17999146e+01,\n",
       "       -7.88621940e+01])"
      ]
     },
     "execution_count": 56,
     "metadata": {},
     "output_type": "execute_result"
    }
   ],
   "source": [
    "reg1.coef_"
   ]
  },
  {
   "cell_type": "code",
   "execution_count": 57,
   "id": "material-seminar",
   "metadata": {},
   "outputs": [],
   "source": [
    "y_pred1 = reg1.predict(x_test1)"
   ]
  },
  {
   "cell_type": "code",
   "execution_count": 58,
   "id": "nominated-austria",
   "metadata": {},
   "outputs": [
    {
     "data": {
      "text/html": [
       "<div>\n",
       "<style scoped>\n",
       "    .dataframe tbody tr th:only-of-type {\n",
       "        vertical-align: middle;\n",
       "    }\n",
       "\n",
       "    .dataframe tbody tr th {\n",
       "        vertical-align: top;\n",
       "    }\n",
       "\n",
       "    .dataframe thead th {\n",
       "        text-align: right;\n",
       "    }\n",
       "</style>\n",
       "<table border=\"1\" class=\"dataframe\">\n",
       "  <thead>\n",
       "    <tr style=\"text-align: right;\">\n",
       "      <th></th>\n",
       "      <th>Variable</th>\n",
       "      <th>Coefficient</th>\n",
       "    </tr>\n",
       "  </thead>\n",
       "  <tbody>\n",
       "    <tr>\n",
       "      <th>12</th>\n",
       "      <td>rt_Shared room</td>\n",
       "      <td>-78.862194</td>\n",
       "    </tr>\n",
       "    <tr>\n",
       "      <th>11</th>\n",
       "      <td>rt_Private room</td>\n",
       "      <td>-61.799915</td>\n",
       "    </tr>\n",
       "    <tr>\n",
       "      <th>10</th>\n",
       "      <td>rt_Hotel room</td>\n",
       "      <td>-31.735687</td>\n",
       "    </tr>\n",
       "    <tr>\n",
       "      <th>9</th>\n",
       "      <td>ng_Staten Island</td>\n",
       "      <td>-2.831294</td>\n",
       "    </tr>\n",
       "    <tr>\n",
       "      <th>0</th>\n",
       "      <td>minimum_nights</td>\n",
       "      <td>-0.427840</td>\n",
       "    </tr>\n",
       "    <tr>\n",
       "      <th>3</th>\n",
       "      <td>calculated_host_listings_count</td>\n",
       "      <td>-0.055056</td>\n",
       "    </tr>\n",
       "    <tr>\n",
       "      <th>1</th>\n",
       "      <td>number_of_reviews</td>\n",
       "      <td>-0.028053</td>\n",
       "    </tr>\n",
       "    <tr>\n",
       "      <th>4</th>\n",
       "      <td>availability_365</td>\n",
       "      <td>0.030495</td>\n",
       "    </tr>\n",
       "    <tr>\n",
       "      <th>5</th>\n",
       "      <td>name_length</td>\n",
       "      <td>0.140528</td>\n",
       "    </tr>\n",
       "    <tr>\n",
       "      <th>2</th>\n",
       "      <td>reviews_per_month</td>\n",
       "      <td>0.281498</td>\n",
       "    </tr>\n",
       "    <tr>\n",
       "      <th>8</th>\n",
       "      <td>ng_Queens</td>\n",
       "      <td>4.992099</td>\n",
       "    </tr>\n",
       "    <tr>\n",
       "      <th>6</th>\n",
       "      <td>ng_Brooklyn</td>\n",
       "      <td>13.837620</td>\n",
       "    </tr>\n",
       "    <tr>\n",
       "      <th>7</th>\n",
       "      <td>ng_Manhattan</td>\n",
       "      <td>34.105355</td>\n",
       "    </tr>\n",
       "  </tbody>\n",
       "</table>\n",
       "</div>"
      ],
      "text/plain": [
       "                          Variable  Coefficient\n",
       "12                  rt_Shared room   -78.862194\n",
       "11                 rt_Private room   -61.799915\n",
       "10                   rt_Hotel room   -31.735687\n",
       "9                 ng_Staten Island    -2.831294\n",
       "0                   minimum_nights    -0.427840\n",
       "3   calculated_host_listings_count    -0.055056\n",
       "1                number_of_reviews    -0.028053\n",
       "4                 availability_365     0.030495\n",
       "5                      name_length     0.140528\n",
       "2                reviews_per_month     0.281498\n",
       "8                        ng_Queens     4.992099\n",
       "6                      ng_Brooklyn    13.837620\n",
       "7                     ng_Manhattan    34.105355"
      ]
     },
     "execution_count": 58,
     "metadata": {},
     "output_type": "execute_result"
    }
   ],
   "source": [
    "Coeff1 = pd.DataFrame(columns=['Variable', 'Coefficient'])\n",
    "Coeff1['Variable'] = x_train1.columns\n",
    "Coeff1['Coefficient'] = reg1.coef_\n",
    "Coeff1.sort_values('Coefficient')"
   ]
  },
  {
   "cell_type": "code",
   "execution_count": 60,
   "id": "mysterious-picnic",
   "metadata": {},
   "outputs": [
    {
     "data": {
      "text/plain": [
       "40.06331730157857"
      ]
     },
     "execution_count": 60,
     "metadata": {},
     "output_type": "execute_result"
    }
   ],
   "source": [
    "rmse1 = np.sqrt(metrics.mean_squared_error(y_test1, y_pred1))\n",
    "rmse1"
   ]
  },
  {
   "cell_type": "code",
   "execution_count": 62,
   "id": "reverse-diagram",
   "metadata": {},
   "outputs": [],
   "source": [
    "import statsmodels.api as sm"
   ]
  },
  {
   "cell_type": "code",
   "execution_count": 63,
   "id": "comic-symposium",
   "metadata": {},
   "outputs": [
    {
     "data": {
      "text/html": [
       "<table class=\"simpletable\">\n",
       "<caption>OLS Regression Results</caption>\n",
       "<tr>\n",
       "  <th>Dep. Variable:</th>          <td>price</td>      <th>  R-squared:         </th>  <td>   0.429</td>  \n",
       "</tr>\n",
       "<tr>\n",
       "  <th>Model:</th>                   <td>OLS</td>       <th>  Adj. R-squared:    </th>  <td>   0.428</td>  \n",
       "</tr>\n",
       "<tr>\n",
       "  <th>Method:</th>             <td>Least Squares</td>  <th>  F-statistic:       </th>  <td>   1465.</td>  \n",
       "</tr>\n",
       "<tr>\n",
       "  <th>Date:</th>             <td>Wed, 25 Aug 2021</td> <th>  Prob (F-statistic):</th>   <td>  0.00</td>   \n",
       "</tr>\n",
       "<tr>\n",
       "  <th>Time:</th>                 <td>00:10:00</td>     <th>  Log-Likelihood:    </th> <td>-1.3015e+05</td>\n",
       "</tr>\n",
       "<tr>\n",
       "  <th>No. Observations:</th>      <td> 25399</td>      <th>  AIC:               </th>  <td>2.603e+05</td> \n",
       "</tr>\n",
       "<tr>\n",
       "  <th>Df Residuals:</th>          <td> 25385</td>      <th>  BIC:               </th>  <td>2.604e+05</td> \n",
       "</tr>\n",
       "<tr>\n",
       "  <th>Df Model:</th>              <td>    13</td>      <th>                     </th>      <td> </td>     \n",
       "</tr>\n",
       "<tr>\n",
       "  <th>Covariance Type:</th>      <td>nonrobust</td>    <th>                     </th>      <td> </td>     \n",
       "</tr>\n",
       "</table>\n",
       "<table class=\"simpletable\">\n",
       "<tr>\n",
       "                 <td></td>                   <th>coef</th>     <th>std err</th>      <th>t</th>      <th>P>|t|</th>  <th>[0.025</th>    <th>0.975]</th>  \n",
       "</tr>\n",
       "<tr>\n",
       "  <th>const</th>                          <td>  119.4441</td> <td>    1.826</td> <td>   65.413</td> <td> 0.000</td> <td>  115.865</td> <td>  123.023</td>\n",
       "</tr>\n",
       "<tr>\n",
       "  <th>minimum_nights</th>                 <td>   -0.4278</td> <td>    0.022</td> <td>  -19.858</td> <td> 0.000</td> <td>   -0.470</td> <td>   -0.386</td>\n",
       "</tr>\n",
       "<tr>\n",
       "  <th>number_of_reviews</th>              <td>   -0.0281</td> <td>    0.005</td> <td>   -5.103</td> <td> 0.000</td> <td>   -0.039</td> <td>   -0.017</td>\n",
       "</tr>\n",
       "<tr>\n",
       "  <th>reviews_per_month</th>              <td>    0.2815</td> <td>    0.078</td> <td>    3.613</td> <td> 0.000</td> <td>    0.129</td> <td>    0.434</td>\n",
       "</tr>\n",
       "<tr>\n",
       "  <th>calculated_host_listings_count</th> <td>   -0.0551</td> <td>    0.006</td> <td>   -8.629</td> <td> 0.000</td> <td>   -0.068</td> <td>   -0.043</td>\n",
       "</tr>\n",
       "<tr>\n",
       "  <th>availability_365</th>               <td>    0.0305</td> <td>    0.002</td> <td>   15.329</td> <td> 0.000</td> <td>    0.027</td> <td>    0.034</td>\n",
       "</tr>\n",
       "<tr>\n",
       "  <th>name_length</th>                    <td>    0.1405</td> <td>    0.024</td> <td>    5.807</td> <td> 0.000</td> <td>    0.093</td> <td>    0.188</td>\n",
       "</tr>\n",
       "<tr>\n",
       "  <th>ng_Brooklyn</th>                    <td>   13.8376</td> <td>    1.520</td> <td>    9.106</td> <td> 0.000</td> <td>   10.859</td> <td>   16.816</td>\n",
       "</tr>\n",
       "<tr>\n",
       "  <th>ng_Manhattan</th>                   <td>   34.1054</td> <td>    1.528</td> <td>   22.317</td> <td> 0.000</td> <td>   31.110</td> <td>   37.101</td>\n",
       "</tr>\n",
       "<tr>\n",
       "  <th>ng_Queens</th>                      <td>    4.9921</td> <td>    1.606</td> <td>    3.109</td> <td> 0.002</td> <td>    1.845</td> <td>    8.139</td>\n",
       "</tr>\n",
       "<tr>\n",
       "  <th>ng_Staten Island</th>               <td>   -2.8313</td> <td>    3.036</td> <td>   -0.933</td> <td> 0.351</td> <td>   -8.782</td> <td>    3.119</td>\n",
       "</tr>\n",
       "<tr>\n",
       "  <th>rt_Hotel room</th>                  <td>  -31.7357</td> <td>    3.725</td> <td>   -8.520</td> <td> 0.000</td> <td>  -39.037</td> <td>  -24.435</td>\n",
       "</tr>\n",
       "<tr>\n",
       "  <th>rt_Private room</th>                <td>  -61.7999</td> <td>    0.525</td> <td> -117.612</td> <td> 0.000</td> <td>  -62.830</td> <td>  -60.770</td>\n",
       "</tr>\n",
       "<tr>\n",
       "  <th>rt_Shared room</th>                 <td>  -78.8622</td> <td>    1.962</td> <td>  -40.204</td> <td> 0.000</td> <td>  -82.707</td> <td>  -75.017</td>\n",
       "</tr>\n",
       "</table>\n",
       "<table class=\"simpletable\">\n",
       "<tr>\n",
       "  <th>Omnibus:</th>       <td>1987.075</td> <th>  Durbin-Watson:     </th> <td>   2.009</td>\n",
       "</tr>\n",
       "<tr>\n",
       "  <th>Prob(Omnibus):</th>  <td> 0.000</td>  <th>  Jarque-Bera (JB):  </th> <td>2580.386</td>\n",
       "</tr>\n",
       "<tr>\n",
       "  <th>Skew:</th>           <td> 0.697</td>  <th>  Prob(JB):          </th> <td>    0.00</td>\n",
       "</tr>\n",
       "<tr>\n",
       "  <th>Kurtosis:</th>       <td> 3.703</td>  <th>  Cond. No.          </th> <td>2.69e+03</td>\n",
       "</tr>\n",
       "</table><br/><br/>Notes:<br/>[1] Standard Errors assume that the covariance matrix of the errors is correctly specified.<br/>[2] The condition number is large, 2.69e+03. This might indicate that there are<br/>strong multicollinearity or other numerical problems."
      ],
      "text/plain": [
       "<class 'statsmodels.iolib.summary.Summary'>\n",
       "\"\"\"\n",
       "                            OLS Regression Results                            \n",
       "==============================================================================\n",
       "Dep. Variable:                  price   R-squared:                       0.429\n",
       "Model:                            OLS   Adj. R-squared:                  0.428\n",
       "Method:                 Least Squares   F-statistic:                     1465.\n",
       "Date:                Wed, 25 Aug 2021   Prob (F-statistic):               0.00\n",
       "Time:                        00:10:00   Log-Likelihood:            -1.3015e+05\n",
       "No. Observations:               25399   AIC:                         2.603e+05\n",
       "Df Residuals:                   25385   BIC:                         2.604e+05\n",
       "Df Model:                          13                                         \n",
       "Covariance Type:            nonrobust                                         \n",
       "==================================================================================================\n",
       "                                     coef    std err          t      P>|t|      [0.025      0.975]\n",
       "--------------------------------------------------------------------------------------------------\n",
       "const                            119.4441      1.826     65.413      0.000     115.865     123.023\n",
       "minimum_nights                    -0.4278      0.022    -19.858      0.000      -0.470      -0.386\n",
       "number_of_reviews                 -0.0281      0.005     -5.103      0.000      -0.039      -0.017\n",
       "reviews_per_month                  0.2815      0.078      3.613      0.000       0.129       0.434\n",
       "calculated_host_listings_count    -0.0551      0.006     -8.629      0.000      -0.068      -0.043\n",
       "availability_365                   0.0305      0.002     15.329      0.000       0.027       0.034\n",
       "name_length                        0.1405      0.024      5.807      0.000       0.093       0.188\n",
       "ng_Brooklyn                       13.8376      1.520      9.106      0.000      10.859      16.816\n",
       "ng_Manhattan                      34.1054      1.528     22.317      0.000      31.110      37.101\n",
       "ng_Queens                          4.9921      1.606      3.109      0.002       1.845       8.139\n",
       "ng_Staten Island                  -2.8313      3.036     -0.933      0.351      -8.782       3.119\n",
       "rt_Hotel room                    -31.7357      3.725     -8.520      0.000     -39.037     -24.435\n",
       "rt_Private room                  -61.7999      0.525   -117.612      0.000     -62.830     -60.770\n",
       "rt_Shared room                   -78.8622      1.962    -40.204      0.000     -82.707     -75.017\n",
       "==============================================================================\n",
       "Omnibus:                     1987.075   Durbin-Watson:                   2.009\n",
       "Prob(Omnibus):                  0.000   Jarque-Bera (JB):             2580.386\n",
       "Skew:                           0.697   Prob(JB):                         0.00\n",
       "Kurtosis:                       3.703   Cond. No.                     2.69e+03\n",
       "==============================================================================\n",
       "\n",
       "Notes:\n",
       "[1] Standard Errors assume that the covariance matrix of the errors is correctly specified.\n",
       "[2] The condition number is large, 2.69e+03. This might indicate that there are\n",
       "strong multicollinearity or other numerical problems.\n",
       "\"\"\""
      ]
     },
     "execution_count": 63,
     "metadata": {},
     "output_type": "execute_result"
    }
   ],
   "source": [
    "X2 = sm.add_constant(x_train1)\n",
    "est = sm.OLS(y_train1, X2)\n",
    "est2 = est.fit()\n",
    "est2.summary()"
   ]
  },
  {
   "cell_type": "code",
   "execution_count": 64,
   "id": "ranking-captain",
   "metadata": {},
   "outputs": [
    {
     "name": "stderr",
     "output_type": "stream",
     "text": [
      "/home/khan/.miniconda3/lib/python3.8/site-packages/pandas/core/frame.py:4305: SettingWithCopyWarning: \n",
      "A value is trying to be set on a copy of a slice from a DataFrame\n",
      "\n",
      "See the caveats in the documentation: https://pandas.pydata.org/pandas-docs/stable/user_guide/indexing.html#returning-a-view-versus-a-copy\n",
      "  return super().drop(\n"
     ]
    },
    {
     "data": {
      "text/html": [
       "<table class=\"simpletable\">\n",
       "<caption>OLS Regression Results</caption>\n",
       "<tr>\n",
       "  <th>Dep. Variable:</th>          <td>price</td>      <th>  R-squared:         </th>  <td>   0.428</td>  \n",
       "</tr>\n",
       "<tr>\n",
       "  <th>Model:</th>                   <td>OLS</td>       <th>  Adj. R-squared:    </th>  <td>   0.428</td>  \n",
       "</tr>\n",
       "<tr>\n",
       "  <th>Method:</th>             <td>Least Squares</td>  <th>  F-statistic:       </th>  <td>   1727.</td>  \n",
       "</tr>\n",
       "<tr>\n",
       "  <th>Date:</th>             <td>Wed, 25 Aug 2021</td> <th>  Prob (F-statistic):</th>   <td>  0.00</td>   \n",
       "</tr>\n",
       "<tr>\n",
       "  <th>Time:</th>                 <td>00:16:31</td>     <th>  Log-Likelihood:    </th> <td>-1.3016e+05</td>\n",
       "</tr>\n",
       "<tr>\n",
       "  <th>No. Observations:</th>      <td> 25399</td>      <th>  AIC:               </th>  <td>2.603e+05</td> \n",
       "</tr>\n",
       "<tr>\n",
       "  <th>Df Residuals:</th>          <td> 25387</td>      <th>  BIC:               </th>  <td>2.604e+05</td> \n",
       "</tr>\n",
       "<tr>\n",
       "  <th>Df Model:</th>              <td>    11</td>      <th>                     </th>      <td> </td>     \n",
       "</tr>\n",
       "<tr>\n",
       "  <th>Covariance Type:</th>      <td>nonrobust</td>    <th>                     </th>      <td> </td>     \n",
       "</tr>\n",
       "</table>\n",
       "<table class=\"simpletable\">\n",
       "<tr>\n",
       "                 <td></td>                   <th>coef</th>     <th>std err</th>      <th>t</th>      <th>P>|t|</th>  <th>[0.025</th>    <th>0.975]</th>  \n",
       "</tr>\n",
       "<tr>\n",
       "  <th>const</th>                          <td>  117.8283</td> <td>    1.679</td> <td>   70.175</td> <td> 0.000</td> <td>  114.537</td> <td>  121.119</td>\n",
       "</tr>\n",
       "<tr>\n",
       "  <th>minimum_nights</th>                 <td>   -0.4083</td> <td>    0.021</td> <td>  -19.246</td> <td> 0.000</td> <td>   -0.450</td> <td>   -0.367</td>\n",
       "</tr>\n",
       "<tr>\n",
       "  <th>reviews_per_month</th>              <td>    0.1656</td> <td>    0.075</td> <td>    2.221</td> <td> 0.026</td> <td>    0.019</td> <td>    0.312</td>\n",
       "</tr>\n",
       "<tr>\n",
       "  <th>calculated_host_listings_count</th> <td>   -0.0524</td> <td>    0.006</td> <td>   -8.238</td> <td> 0.000</td> <td>   -0.065</td> <td>   -0.040</td>\n",
       "</tr>\n",
       "<tr>\n",
       "  <th>availability_365</th>               <td>    0.0296</td> <td>    0.002</td> <td>   14.934</td> <td> 0.000</td> <td>    0.026</td> <td>    0.033</td>\n",
       "</tr>\n",
       "<tr>\n",
       "  <th>name_length</th>                    <td>    0.1421</td> <td>    0.024</td> <td>    5.871</td> <td> 0.000</td> <td>    0.095</td> <td>    0.190</td>\n",
       "</tr>\n",
       "<tr>\n",
       "  <th>ng_Brooklyn</th>                    <td>   14.4209</td> <td>    1.352</td> <td>   10.669</td> <td> 0.000</td> <td>   11.772</td> <td>   17.070</td>\n",
       "</tr>\n",
       "<tr>\n",
       "  <th>ng_Manhattan</th>                   <td>   34.7813</td> <td>    1.361</td> <td>   25.550</td> <td> 0.000</td> <td>   32.113</td> <td>   37.450</td>\n",
       "</tr>\n",
       "<tr>\n",
       "  <th>ng_Queens</th>                      <td>    5.5909</td> <td>    1.448</td> <td>    3.861</td> <td> 0.000</td> <td>    2.752</td> <td>    8.429</td>\n",
       "</tr>\n",
       "<tr>\n",
       "  <th>rt_Hotel room</th>                  <td>  -32.2794</td> <td>    3.725</td> <td>   -8.665</td> <td> 0.000</td> <td>  -39.581</td> <td>  -24.978</td>\n",
       "</tr>\n",
       "<tr>\n",
       "  <th>rt_Private room</th>                <td>  -61.6886</td> <td>    0.525</td> <td> -117.445</td> <td> 0.000</td> <td>  -62.718</td> <td>  -60.659</td>\n",
       "</tr>\n",
       "<tr>\n",
       "  <th>rt_Shared room</th>                 <td>  -78.5990</td> <td>    1.962</td> <td>  -40.064</td> <td> 0.000</td> <td>  -82.444</td> <td>  -74.754</td>\n",
       "</tr>\n",
       "</table>\n",
       "<table class=\"simpletable\">\n",
       "<tr>\n",
       "  <th>Omnibus:</th>       <td>2018.793</td> <th>  Durbin-Watson:     </th> <td>   2.010</td>\n",
       "</tr>\n",
       "<tr>\n",
       "  <th>Prob(Omnibus):</th>  <td> 0.000</td>  <th>  Jarque-Bera (JB):  </th> <td>2630.057</td>\n",
       "</tr>\n",
       "<tr>\n",
       "  <th>Skew:</th>           <td> 0.704</td>  <th>  Prob(JB):          </th> <td>    0.00</td>\n",
       "</tr>\n",
       "<tr>\n",
       "  <th>Kurtosis:</th>       <td> 3.710</td>  <th>  Cond. No.          </th> <td>2.67e+03</td>\n",
       "</tr>\n",
       "</table><br/><br/>Notes:<br/>[1] Standard Errors assume that the covariance matrix of the errors is correctly specified.<br/>[2] The condition number is large, 2.67e+03. This might indicate that there are<br/>strong multicollinearity or other numerical problems."
      ],
      "text/plain": [
       "<class 'statsmodels.iolib.summary.Summary'>\n",
       "\"\"\"\n",
       "                            OLS Regression Results                            \n",
       "==============================================================================\n",
       "Dep. Variable:                  price   R-squared:                       0.428\n",
       "Model:                            OLS   Adj. R-squared:                  0.428\n",
       "Method:                 Least Squares   F-statistic:                     1727.\n",
       "Date:                Wed, 25 Aug 2021   Prob (F-statistic):               0.00\n",
       "Time:                        00:16:31   Log-Likelihood:            -1.3016e+05\n",
       "No. Observations:               25399   AIC:                         2.603e+05\n",
       "Df Residuals:                   25387   BIC:                         2.604e+05\n",
       "Df Model:                          11                                         \n",
       "Covariance Type:            nonrobust                                         \n",
       "==================================================================================================\n",
       "                                     coef    std err          t      P>|t|      [0.025      0.975]\n",
       "--------------------------------------------------------------------------------------------------\n",
       "const                            117.8283      1.679     70.175      0.000     114.537     121.119\n",
       "minimum_nights                    -0.4083      0.021    -19.246      0.000      -0.450      -0.367\n",
       "reviews_per_month                  0.1656      0.075      2.221      0.026       0.019       0.312\n",
       "calculated_host_listings_count    -0.0524      0.006     -8.238      0.000      -0.065      -0.040\n",
       "availability_365                   0.0296      0.002     14.934      0.000       0.026       0.033\n",
       "name_length                        0.1421      0.024      5.871      0.000       0.095       0.190\n",
       "ng_Brooklyn                       14.4209      1.352     10.669      0.000      11.772      17.070\n",
       "ng_Manhattan                      34.7813      1.361     25.550      0.000      32.113      37.450\n",
       "ng_Queens                          5.5909      1.448      3.861      0.000       2.752       8.429\n",
       "rt_Hotel room                    -32.2794      3.725     -8.665      0.000     -39.581     -24.978\n",
       "rt_Private room                  -61.6886      0.525   -117.445      0.000     -62.718     -60.659\n",
       "rt_Shared room                   -78.5990      1.962    -40.064      0.000     -82.444     -74.754\n",
       "==============================================================================\n",
       "Omnibus:                     2018.793   Durbin-Watson:                   2.010\n",
       "Prob(Omnibus):                  0.000   Jarque-Bera (JB):             2630.057\n",
       "Skew:                           0.704   Prob(JB):                         0.00\n",
       "Kurtosis:                       3.710   Cond. No.                     2.67e+03\n",
       "==============================================================================\n",
       "\n",
       "Notes:\n",
       "[1] Standard Errors assume that the covariance matrix of the errors is correctly specified.\n",
       "[2] The condition number is large, 2.67e+03. This might indicate that there are\n",
       "strong multicollinearity or other numerical problems.\n",
       "\"\"\""
      ]
     },
     "execution_count": 64,
     "metadata": {},
     "output_type": "execute_result"
    }
   ],
   "source": [
    "# Number of reviews and ng_Staten Island are not significant\n",
    "x_train1.drop(['number_of_reviews', 'ng_Staten Island'], axis=1, inplace=True)\n",
    "X2 = sm.add_constant(x_train1)\n",
    "est = sm.OLS(y_train1, X2)\n",
    "est2 = est.fit()\n",
    "est2.summary()"
   ]
  },
  {
   "cell_type": "code",
   "execution_count": null,
   "id": "another-residence",
   "metadata": {},
   "outputs": [],
   "source": []
  }
 ],
 "metadata": {
  "kernelspec": {
   "display_name": "Python 3",
   "language": "python",
   "name": "python3"
  },
  "language_info": {
   "codemirror_mode": {
    "name": "ipython",
    "version": 3
   },
   "file_extension": ".py",
   "mimetype": "text/x-python",
   "name": "python",
   "nbconvert_exporter": "python",
   "pygments_lexer": "ipython3",
   "version": "3.8.6"
  }
 },
 "nbformat": 4,
 "nbformat_minor": 5
}
